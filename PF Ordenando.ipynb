{
 "cells": [
  {
   "cell_type": "markdown",
   "id": "cb660a43-7090-456e-9b60-243a1ad59094",
   "metadata": {},
   "source": [
    "## Carga de librerías"
   ]
  },
  {
   "cell_type": "code",
   "execution_count": 1,
   "id": "cbcfd2fd-fe85-43bf-b1d4-80b8c1a92e1c",
   "metadata": {},
   "outputs": [],
   "source": [
    "import datetime  # Importar datetime para manipulación de fechas y horas\n",
    "import joblib  # Para utilizar joblib en sys.modules\n",
    "import re  # Importar re para operaciones de expresiones regulares\n",
    "import sys  # Para utilizar sys.modules\n",
    "import numpy as np  # Importar NumPy para operaciones numéricas\n",
    "import pandas as pd  # Importar Pandas para manipulación de datos\n",
    "import matplotlib.pyplot as plt  # Importar Matplotlib para visualización de datos\n",
    "import matplotlib as mpl  # Importar Matplotlib como mpl\n",
    "import seaborn as sns  # Importar Seaborn para visualización estadística\n",
    "\n",
    "from mlxtend.feature_selection import SequentialFeatureSelector as SFS  # Importar SequentialFeatureSelector de mlxtend para selección de características\n",
    "from sklearn.model_selection import train_test_split  # Importar train_test_split para dividir datos en conjuntos de entrenamiento y prueba\n",
    "from sklearn.linear_model import LinearRegression  # Importar LinearRegression para modelado de regresión lineal\n",
    "from sklearn.preprocessing import StandardScaler, LabelEncoder  # Importar StandardScaler y LabelEncoder para preprocesamiento de datos\n",
    "from sklearn.metrics import mean_absolute_error, mean_squared_error, median_absolute_error, mean_squared_log_error, r2_score  # Importar métricas de evaluación de modelos\n",
    "from sklearn.linear_model import Lasso, Ridge  # Importar Lasso y Ridge para modelado de regresión con regularización\n",
    "from sklearn.ensemble import RandomForestRegressor  # Importar RandomForestRegressor para modelado de regresión con random forest\n",
    "\n",
    "pd.options.mode.chained_assignment = None  # Desactiva la advertencia SettingWithCopyWarning"
   ]
  },
  {
   "cell_type": "markdown",
   "id": "538a4549-c39a-4b54-95cb-0996dd394c1b",
   "metadata": {},
   "source": [
    "## Carga de Dataset"
   ]
  },
  {
   "cell_type": "code",
   "execution_count": 2,
   "id": "2f2c70e9-25ce-4123-b3fc-b94f789f258c",
   "metadata": {},
   "outputs": [],
   "source": [
    "# Primero levantamos nuestro dataset desde github\n",
    "url = \"https://raw.githubusercontent.com/JnAlvarez/CH-Clases/main/New_York_cars.csv\"\n",
    "df = pd.read_csv(url)"
   ]
  },
  {
   "cell_type": "markdown",
   "id": "6393e9f0-8c84-48f2-8fa5-5a0562598141",
   "metadata": {},
   "source": [
    "## Primera visualización"
   ]
  },
  {
   "cell_type": "code",
   "execution_count": 3,
   "id": "9205ba72-3391-428e-b76f-37f3334b1404",
   "metadata": {},
   "outputs": [
    {
     "name": "stdout",
     "output_type": "stream",
     "text": [
      "------------------------ SHAPE ------------------------\n",
      "(175490, 24)\n",
      "------------------------ DESCRIBE ---------------------\n",
      "              money        Mileage           Year\n",
      "count  1.754900e+05  175443.000000  175490.000000\n",
      "mean   3.435422e+04   51195.466203    2018.551900\n",
      "std    2.350952e+04   43350.071628       3.136994\n",
      "min    1.895000e+03       0.000000    2012.000000\n",
      "25%    1.999100e+04   15170.500000    2016.000000\n",
      "50%    2.899000e+04   44328.000000    2019.000000\n",
      "75%    4.199000e+04   78484.500000    2021.000000\n",
      "max    2.200000e+06  763474.000000    2023.000000\n",
      "------------------------ INFO -------------------------\n",
      "<class 'pandas.core.frame.DataFrame'>\n",
      "RangeIndex: 175490 entries, 0 to 175489\n",
      "Data columns (total 24 columns):\n",
      " #   Column               Non-Null Count   Dtype  \n",
      "---  ------               --------------   -----  \n",
      " 0   new&used             175490 non-null  object \n",
      " 1   name                 175490 non-null  object \n",
      " 2   money                175490 non-null  int64  \n",
      " 3   Exterior color       173598 non-null  object \n",
      " 4   Interior color       160594 non-null  object \n",
      " 5   Drivetrain           174934 non-null  object \n",
      " 6   MPG                  143406 non-null  object \n",
      " 7   Fuel type            174147 non-null  object \n",
      " 8   Transmission         174726 non-null  object \n",
      " 9   Engine               175158 non-null  object \n",
      " 10  Mileage              175443 non-null  float64\n",
      " 11  Convenience          145557 non-null  object \n",
      " 12  Entertainment        166583 non-null  object \n",
      " 13  Exterior             158582 non-null  object \n",
      " 14  Safety               173548 non-null  object \n",
      " 15  Seating              117836 non-null  object \n",
      " 16  Accidents or damage  122916 non-null  object \n",
      " 17  Clean title          18150 non-null   object \n",
      " 18  1-owner vehicle      122691 non-null  object \n",
      " 19  Personal use only    122915 non-null  object \n",
      " 20  brand                175490 non-null  object \n",
      " 21  Year                 175490 non-null  int64  \n",
      " 22  Model                175490 non-null  object \n",
      " 23  currency             175490 non-null  object \n",
      "dtypes: float64(1), int64(2), object(21)\n",
      "memory usage: 32.1+ MB\n",
      "None\n",
      "------------------------ NULL -------------------------\n",
      "new&used                    0\n",
      "name                        0\n",
      "money                       0\n",
      "Exterior color           1892\n",
      "Interior color          14896\n",
      "Drivetrain                556\n",
      "MPG                     32084\n",
      "Fuel type                1343\n",
      "Transmission              764\n",
      "Engine                    332\n",
      "Mileage                    47\n",
      "Convenience             29933\n",
      "Entertainment            8907\n",
      "Exterior                16908\n",
      "Safety                   1942\n",
      "Seating                 57654\n",
      "Accidents or damage     52574\n",
      "Clean title            157340\n",
      "1-owner vehicle         52799\n",
      "Personal use only       52575\n",
      "brand                       0\n",
      "Year                        0\n",
      "Model                       0\n",
      "currency                    0\n",
      "dtype: int64\n"
     ]
    }
   ],
   "source": [
    "# Exploramos someramente nuestro dataset para hacernos una idea de los datos aquí contenidos.\n",
    "print(\"------------------------ SHAPE ------------------------\")\n",
    "print(df.shape)\n",
    "print(\"------------------------ DESCRIBE ---------------------\")\n",
    "print(df.describe())\n",
    "print(\"------------------------ INFO -------------------------\")\n",
    "print(df.info())\n",
    "print(\"------------------------ NULL -------------------------\")\n",
    "print(df.isnull().sum())"
   ]
  },
  {
   "cell_type": "code",
   "execution_count": 4,
   "id": "8506211e-5625-4544-ba18-863193216cdf",
   "metadata": {},
   "outputs": [
    {
     "name": "stdout",
     "output_type": "stream",
     "text": [
      "------------------------ HEAD -------------------------\n",
      "  new&used                                  name  money  \\\n",
      "0      New               2023 Acura Integra Base  33095   \n",
      "1      New                 2023 Acura Mdx A-Spec  61745   \n",
      "2      New  2023 Acura Integra A-Spec Technology  38095   \n",
      "3      New                 2023 Acura Tlx A-Spec  47995   \n",
      "4      New                 2023 Acura Tlx A-Spec  47995   \n",
      "\n",
      "             Exterior color Interior color Drivetrain     MPG Fuel type  \\\n",
      "0   Liquid Carbon Metallic          Ebony         Fwd   30–37  Gasoline   \n",
      "1     Majestic Black Pearl          Ebony         Awd   19–25  Gasoline   \n",
      "2     Majestic Black Pearl          Ebony         Fwd   26–36  Gasoline   \n",
      "3     Majestic Black Pearl          Ebony         Fwd   22–30  Gasoline   \n",
      "4     Platinum White Pearl            Red         Fwd   22–30  Gasoline   \n",
      "\n",
      "         Transmission                      Engine  ...  \\\n",
      "0       Automatic Cvt  1.5L I4 16V Gdi Dohc Turbo  ...   \n",
      "1  10-Speed Automatic        3.5L V6 24V Gdi Sohc  ...   \n",
      "2      6-Speed Manual  1.5L I4 16V Gdi Dohc Turbo  ...   \n",
      "3  10-Speed Automatic  2.0L I4 16V Gdi Dohc Turbo  ...   \n",
      "4  10-Speed Automatic  2.0L I4 16V Gdi Dohc Turbo  ...   \n",
      "\n",
      "                                              Safety  \\\n",
      "0    Automatic Emergency BrakingBackup CameraBrak...   \n",
      "1    Backup CameraBrake AssistLane Departure Warn...   \n",
      "2    Backup CameraBrake AssistLane Departure Warn...   \n",
      "3    Backup CameraBrake AssistLane Departure Warn...   \n",
      "4    Backup CameraBrake AssistLane Departure Warn...   \n",
      "\n",
      "                                         Seating Accidents or damage  \\\n",
      "0                                Leather Seats                   NaN   \n",
      "1    Leather SeatsMemory SeatThird Row Seating                   NaN   \n",
      "2                     Leather SeatsMemory Seat                   NaN   \n",
      "3                     Leather SeatsMemory Seat                   NaN   \n",
      "4                     Leather SeatsMemory Seat                   NaN   \n",
      "\n",
      "  Clean title 1-owner vehicle Personal use only  brand  Year  \\\n",
      "0         NaN             NaN               NaN  Acura  2023   \n",
      "1         NaN             NaN               NaN  Acura  2023   \n",
      "2         NaN             NaN               NaN  Acura  2023   \n",
      "3         NaN             NaN               NaN  Acura  2023   \n",
      "4         NaN             NaN               NaN  Acura  2023   \n",
      "\n",
      "                       Model currency  \n",
      "0               Integra Base        $  \n",
      "1                 Mdx A-Spec        $  \n",
      "2  Integra A-Spec Technology        $  \n",
      "3                 Tlx A-Spec        $  \n",
      "4                 Tlx A-Spec        $  \n",
      "\n",
      "[5 rows x 24 columns]\n"
     ]
    }
   ],
   "source": [
    "print(\"------------------------ HEAD -------------------------\")\n",
    "print(df.head())"
   ]
  },
  {
   "cell_type": "markdown",
   "id": "cd85f196-c62b-464d-b7eb-97c10fdf0aa3",
   "metadata": {},
   "source": [
    "## Estructurando el dataset (Feature Engineering Parte 1)"
   ]
  },
  {
   "cell_type": "markdown",
   "id": "409625d3-9e68-42a2-a286-b6623bee290c",
   "metadata": {},
   "source": [
    "Este proyecto solo considerará el precio de los automóviles usados, por lo tanto, vamos a visualizar la cantidad de entradas de automóviles nuevos y las eliminaremos."
   ]
  },
  {
   "cell_type": "code",
   "execution_count": 5,
   "id": "b107120e-b827-4c52-a3ab-cf03e40415e3",
   "metadata": {},
   "outputs": [
    {
     "data": {
      "text/plain": [
       "new&used\n",
       "Used                       135972\n",
       "New                         29280\n",
       "Mercedes-Benz Certified       778\n",
       "Infiniti Certified            705\n",
       "Porsche Certified             659\n",
       "Toyota Certified              629\n",
       "Volvo Certified               617\n",
       "Honda Certified               615\n",
       "Cadillac Certified            608\n",
       "Bmw Certified                 580\n",
       "Nissan Certified              501\n",
       "Buick Certified               498\n",
       "Volkswagen Certified          496\n",
       "Subaru Certified              445\n",
       "Jeep Certified                427\n",
       "Acura Certified               416\n",
       "Gmc Certified                 375\n",
       "Kia Certified                 358\n",
       "Ford Certified                354\n",
       "Dodge Certified               323\n",
       "Chevrolet Certified           316\n",
       "Chrysler Certified            298\n",
       "Ram Certified                 236\n",
       "Mitsubishi Certified            4\n",
       "Name: count, dtype: int64"
      ]
     },
     "execution_count": 5,
     "metadata": {},
     "output_type": "execute_result"
    }
   ],
   "source": [
    "df['new&used'].value_counts()"
   ]
  },
  {
   "cell_type": "code",
   "execution_count": 6,
   "id": "a07ef0ce-20d3-4c54-9729-05cd0ecc1d9f",
   "metadata": {},
   "outputs": [
    {
     "data": {
      "text/plain": [
       "new&used\n",
       "Used                       135972\n",
       "Mercedes-Benz Certified       778\n",
       "Infiniti Certified            705\n",
       "Porsche Certified             659\n",
       "Toyota Certified              629\n",
       "Volvo Certified               617\n",
       "Honda Certified               615\n",
       "Cadillac Certified            608\n",
       "Bmw Certified                 580\n",
       "Nissan Certified              501\n",
       "Buick Certified               498\n",
       "Volkswagen Certified          496\n",
       "Subaru Certified              445\n",
       "Jeep Certified                427\n",
       "Acura Certified               416\n",
       "Gmc Certified                 375\n",
       "Kia Certified                 358\n",
       "Ford Certified                354\n",
       "Dodge Certified               323\n",
       "Chevrolet Certified           316\n",
       "Chrysler Certified            298\n",
       "Ram Certified                 236\n",
       "Mitsubishi Certified            4\n",
       "Name: count, dtype: int64"
      ]
     },
     "execution_count": 6,
     "metadata": {},
     "output_type": "execute_result"
    }
   ],
   "source": [
    "df = df[df['new&used'] != 'New']\n",
    "df['new&used'].value_counts()"
   ]
  },
  {
   "cell_type": "markdown",
   "id": "7d84810e-a3d1-4a24-b465-26daa1bfdfe4",
   "metadata": {},
   "source": [
    "Con esto hemos dejado solo los datos de los automóviles usados en nuestro dataset."
   ]
  },
  {
   "cell_type": "markdown",
   "id": "0e81bdd4-7dad-4c52-b9e9-3ab3d189329b",
   "metadata": {},
   "source": [
    "Con el head que hemos hecho pudimos observar que la columna \"currency\" parece tener información sobre la moneda en la que se encuentra el precio del automóvil, exploraremos dicha columna para entender como se encuentra distribuída."
   ]
  },
  {
   "cell_type": "code",
   "execution_count": 7,
   "id": "61c29341-db05-4205-b6b9-b51f07c9908e",
   "metadata": {},
   "outputs": [
    {
     "data": {
      "text/plain": [
       "currency\n",
       "$    146210\n",
       "Name: count, dtype: int64"
      ]
     },
     "execution_count": 7,
     "metadata": {},
     "output_type": "execute_result"
    }
   ],
   "source": [
    "df['currency'].value_counts()"
   ]
  },
  {
   "cell_type": "markdown",
   "id": "bbf6c3d3-1b7e-4512-99e4-605b3f0dbba0",
   "metadata": {},
   "source": [
    "Como podemos observar, todos los datos contenidos se encuentran en la misma divisa, lo que hace irrelevante esta columna, por lo que la eliminamos."
   ]
  },
  {
   "cell_type": "code",
   "execution_count": 8,
   "id": "0804ede3-08af-4cb8-aeac-1c78d28f5882",
   "metadata": {},
   "outputs": [
    {
     "name": "stdout",
     "output_type": "stream",
     "text": [
      "------------------------ INFO -------------------------\n",
      "<class 'pandas.core.frame.DataFrame'>\n",
      "Index: 146210 entries, 60 to 175489\n",
      "Data columns (total 23 columns):\n",
      " #   Column               Non-Null Count   Dtype  \n",
      "---  ------               --------------   -----  \n",
      " 0   new&used             146210 non-null  object \n",
      " 1   name                 146210 non-null  object \n",
      " 2   money                146210 non-null  int64  \n",
      " 3   Exterior color       144492 non-null  object \n",
      " 4   Interior color       133643 non-null  object \n",
      " 5   Drivetrain           145727 non-null  object \n",
      " 6   MPG                  134117 non-null  object \n",
      " 7   Fuel type            144935 non-null  object \n",
      " 8   Transmission         145838 non-null  object \n",
      " 9   Engine               145923 non-null  object \n",
      " 10  Mileage              146163 non-null  float64\n",
      " 11  Convenience          118629 non-null  object \n",
      " 12  Entertainment        139875 non-null  object \n",
      " 13  Exterior             133055 non-null  object \n",
      " 14  Safety               145890 non-null  object \n",
      " 15  Seating              98831 non-null   object \n",
      " 16  Accidents or damage  122916 non-null  object \n",
      " 17  Clean title          18150 non-null   object \n",
      " 18  1-owner vehicle      122691 non-null  object \n",
      " 19  Personal use only    122915 non-null  object \n",
      " 20  brand                146210 non-null  object \n",
      " 21  Year                 146210 non-null  int64  \n",
      " 22  Model                146210 non-null  object \n",
      "dtypes: float64(1), int64(2), object(20)\n",
      "memory usage: 26.8+ MB\n",
      "None\n"
     ]
    }
   ],
   "source": [
    "df = df.drop('currency', axis=1)\n",
    "print(\"------------------------ INFO -------------------------\")\n",
    "print(df.info())"
   ]
  },
  {
   "cell_type": "markdown",
   "id": "7f14d259-3170-447d-938a-c66ea3a586c7",
   "metadata": {},
   "source": [
    "Podemos ver que la columna Clean title tiene muy pocos valores relativo a las demás columnas, por lo que revisaremos los null del mismo."
   ]
  },
  {
   "cell_type": "code",
   "execution_count": 9,
   "id": "ecdfae8e-ec98-4bd5-8984-e5f8983d208a",
   "metadata": {},
   "outputs": [
    {
     "name": "stdout",
     "output_type": "stream",
     "text": [
      "-------------- NULL (%) ---------------\n"
     ]
    },
    {
     "data": {
      "text/plain": [
       "new&used                0.000000\n",
       "name                    0.000000\n",
       "money                   0.000000\n",
       "Exterior color          1.175022\n",
       "Interior color          8.595171\n",
       "Drivetrain              0.330347\n",
       "MPG                     8.270980\n",
       "Fuel type               0.872033\n",
       "Transmission            0.254429\n",
       "Engine                  0.196293\n",
       "Mileage                 0.032146\n",
       "Convenience            18.863963\n",
       "Entertainment           4.332809\n",
       "Exterior                8.997333\n",
       "Safety                  0.218863\n",
       "Seating                32.404760\n",
       "Accidents or damage    15.931879\n",
       "Clean title            87.586348\n",
       "1-owner vehicle        16.085767\n",
       "Personal use only      15.932563\n",
       "brand                   0.000000\n",
       "Year                    0.000000\n",
       "Model                   0.000000\n",
       "dtype: float64"
      ]
     },
     "execution_count": 9,
     "metadata": {},
     "output_type": "execute_result"
    }
   ],
   "source": [
    "print(\"-------------- NULL (%) ---------------\")\n",
    "df.isnull().sum()/df.shape[0] * 100"
   ]
  },
  {
   "cell_type": "code",
   "execution_count": 10,
   "id": "0593fa0a-1687-433c-8e50-aab1f935109d",
   "metadata": {},
   "outputs": [
    {
     "data": {
      "text/plain": [
       "Clean title\n",
       "Yes    17856\n",
       "No       294\n",
       "Name: count, dtype: int64"
      ]
     },
     "execution_count": 10,
     "metadata": {},
     "output_type": "execute_result"
    }
   ],
   "source": [
    "df['Clean title'].value_counts()"
   ]
  },
  {
   "cell_type": "markdown",
   "id": "4501ecd0-51de-4b81-adca-bd0de0527254",
   "metadata": {},
   "source": [
    "Según el dataset, esta columna contiene información sobre el estado legal del vehículo, al no poseer información relevante para nuestro estudio, además de poseer casi un 88% de nan, eliminaremos esta columna."
   ]
  },
  {
   "cell_type": "code",
   "execution_count": 11,
   "id": "a2205e27-ca94-4c79-879d-71a334bcb74b",
   "metadata": {},
   "outputs": [
    {
     "name": "stdout",
     "output_type": "stream",
     "text": [
      "------------------------ INFO -------------------------\n",
      "<class 'pandas.core.frame.DataFrame'>\n",
      "Index: 146210 entries, 60 to 175489\n",
      "Data columns (total 22 columns):\n",
      " #   Column               Non-Null Count   Dtype  \n",
      "---  ------               --------------   -----  \n",
      " 0   new&used             146210 non-null  object \n",
      " 1   name                 146210 non-null  object \n",
      " 2   money                146210 non-null  int64  \n",
      " 3   Exterior color       144492 non-null  object \n",
      " 4   Interior color       133643 non-null  object \n",
      " 5   Drivetrain           145727 non-null  object \n",
      " 6   MPG                  134117 non-null  object \n",
      " 7   Fuel type            144935 non-null  object \n",
      " 8   Transmission         145838 non-null  object \n",
      " 9   Engine               145923 non-null  object \n",
      " 10  Mileage              146163 non-null  float64\n",
      " 11  Convenience          118629 non-null  object \n",
      " 12  Entertainment        139875 non-null  object \n",
      " 13  Exterior             133055 non-null  object \n",
      " 14  Safety               145890 non-null  object \n",
      " 15  Seating              98831 non-null   object \n",
      " 16  Accidents or damage  122916 non-null  object \n",
      " 17  1-owner vehicle      122691 non-null  object \n",
      " 18  Personal use only    122915 non-null  object \n",
      " 19  brand                146210 non-null  object \n",
      " 20  Year                 146210 non-null  int64  \n",
      " 21  Model                146210 non-null  object \n",
      "dtypes: float64(1), int64(2), object(19)\n",
      "memory usage: 25.7+ MB\n",
      "None\n"
     ]
    }
   ],
   "source": [
    "df = df.drop('Clean title', axis=1)\n",
    "print(\"------------------------ INFO -------------------------\")\n",
    "print(df.info())"
   ]
  },
  {
   "cell_type": "markdown",
   "id": "03713103-dd6b-42f1-b33e-7be45080c8e2",
   "metadata": {},
   "source": [
    "Ahora realizaremos algunos cambios, principalmente por comodidad de trabajo, como poner en mayúsculas todos los títulos de columnas, renombrar la columna \"money\" por \"Price\" ya que esta es la columna que contiene el valor de cada vehículo, etc."
   ]
  },
  {
   "cell_type": "code",
   "execution_count": 12,
   "id": "2baf7256-2196-485e-a711-f1d238fc6cce",
   "metadata": {},
   "outputs": [
    {
     "name": "stdout",
     "output_type": "stream",
     "text": [
      "------------------------ INFO -------------------------\n",
      "<class 'pandas.core.frame.DataFrame'>\n",
      "Index: 146210 entries, 60 to 175489\n",
      "Data columns (total 22 columns):\n",
      " #   Column               Non-Null Count   Dtype  \n",
      "---  ------               --------------   -----  \n",
      " 0   Usado (tipo)         146210 non-null  object \n",
      " 1   Name                 146210 non-null  object \n",
      " 2   Price                146210 non-null  int64  \n",
      " 3   Exterior color       144492 non-null  object \n",
      " 4   Interior color       133643 non-null  object \n",
      " 5   Drivetrain           145727 non-null  object \n",
      " 6   MPG                  134117 non-null  object \n",
      " 7   Fuel type            144935 non-null  object \n",
      " 8   Transmission         145838 non-null  object \n",
      " 9   Engine               145923 non-null  object \n",
      " 10  Mileage              146163 non-null  float64\n",
      " 11  Convenience          118629 non-null  object \n",
      " 12  Entertainment        139875 non-null  object \n",
      " 13  Exterior             133055 non-null  object \n",
      " 14  Safety               145890 non-null  object \n",
      " 15  Seating              98831 non-null   object \n",
      " 16  Accidents or damage  122916 non-null  object \n",
      " 17  1-owner vehicle      122691 non-null  object \n",
      " 18  Personal use only    122915 non-null  object \n",
      " 19  Brand                146210 non-null  object \n",
      " 20  Year                 146210 non-null  int64  \n",
      " 21  Model                146210 non-null  object \n",
      "dtypes: float64(1), int64(2), object(19)\n",
      "memory usage: 25.7+ MB\n",
      "None\n"
     ]
    }
   ],
   "source": [
    "# Crear un diccionario para mapear los nombres de columnas antiguas a los nuevos nombres\n",
    "nuevos_nombres = {\n",
    "    'new&used': 'Usado (tipo)',\n",
    "    'money': 'Price',\n",
    "    'name': 'Name',\n",
    "    'brand': 'Brand'\n",
    "}\n",
    "\n",
    "# Cambiar los nombres de las columnas utilizando el diccionario y el método rename\n",
    "df = df.rename(columns=nuevos_nombres)\n",
    "\n",
    "# Imprimir el DataFrame con los nuevos nombres de columnas\n",
    "print(\"------------------------ INFO -------------------------\")\n",
    "print(df.info())"
   ]
  },
  {
   "cell_type": "markdown",
   "id": "0cf0c875-45c8-43b9-87bd-a5c33f81dcad",
   "metadata": {},
   "source": [
    "Por simple comodidad reordenaremos las columnas."
   ]
  },
  {
   "cell_type": "code",
   "execution_count": 13,
   "id": "799f4571-a81f-470a-86d5-86ca0b55a3a4",
   "metadata": {},
   "outputs": [
    {
     "name": "stdout",
     "output_type": "stream",
     "text": [
      "------------------------ INFO -------------------------\n",
      "<class 'pandas.core.frame.DataFrame'>\n",
      "Index: 146210 entries, 60 to 175489\n",
      "Data columns (total 22 columns):\n",
      " #   Column               Non-Null Count   Dtype  \n",
      "---  ------               --------------   -----  \n",
      " 0   Name                 146210 non-null  object \n",
      " 1   Year                 146210 non-null  int64  \n",
      " 2   Brand                146210 non-null  object \n",
      " 3   Model                146210 non-null  object \n",
      " 4   Usado (tipo)         146210 non-null  object \n",
      " 5   Price                146210 non-null  int64  \n",
      " 6   Exterior color       144492 non-null  object \n",
      " 7   Interior color       133643 non-null  object \n",
      " 8   Drivetrain           145727 non-null  object \n",
      " 9   MPG                  134117 non-null  object \n",
      " 10  Fuel type            144935 non-null  object \n",
      " 11  Transmission         145838 non-null  object \n",
      " 12  Engine               145923 non-null  object \n",
      " 13  Mileage              146163 non-null  float64\n",
      " 14  Convenience          118629 non-null  object \n",
      " 15  Entertainment        139875 non-null  object \n",
      " 16  Exterior             133055 non-null  object \n",
      " 17  Safety               145890 non-null  object \n",
      " 18  Seating              98831 non-null   object \n",
      " 19  Accidents or damage  122916 non-null  object \n",
      " 20  1-owner vehicle      122691 non-null  object \n",
      " 21  Personal use only    122915 non-null  object \n",
      "dtypes: float64(1), int64(2), object(19)\n",
      "memory usage: 25.7+ MB\n",
      "None\n"
     ]
    }
   ],
   "source": [
    "nuevo_orden_columnas = ['Name', 'Year', 'Brand', 'Model', 'Usado (tipo)', 'Price', 'Exterior color', 'Interior color',\n",
    "                        'Drivetrain', 'MPG', 'Fuel type', 'Transmission', 'Engine', 'Mileage', 'Convenience', 'Entertainment',\n",
    "                        'Exterior', 'Safety', 'Seating', 'Accidents or damage', '1-owner vehicle', 'Personal use only']\n",
    "\n",
    "# Reorganizar las columnas en el DataFrame\n",
    "df = df[nuevo_orden_columnas]\n",
    "\n",
    "print(\"------------------------ INFO -------------------------\")\n",
    "print(df.info())"
   ]
  },
  {
   "cell_type": "markdown",
   "id": "226bdca8-31d0-4bc9-88a9-7a079b5cb71b",
   "metadata": {},
   "source": [
    "#### Creación de columnas Dummy a partir de Columnas con información categórica"
   ]
  },
  {
   "cell_type": "markdown",
   "id": "7c010536-2956-495b-b624-7448a92c403a",
   "metadata": {},
   "source": [
    "Como pudimos observar anteriormente existen varias columnas que contienen datos categóricos agrupados en una sola celda, esta información será de poca utilidad si la mantenemos de esta manera, por lo que iteraremos por cada una de ellas buscando las distintas características que contiene cada celda, creando una columna para cada característica que contendrá un 0 si la entrada posee dicha característica y un 1 si es que la posee."
   ]
  },
  {
   "cell_type": "code",
   "execution_count": 14,
   "id": "c175c532-cc4b-47c7-8fac-2a6e2ea9de2d",
   "metadata": {},
   "outputs": [
    {
     "name": "stdout",
     "output_type": "stream",
     "text": [
      "------------------------ HEAD -------------------------\n",
      "60                Adaptive Cruise ControlKeyless Start  \n",
      "107      Adaptive Cruise ControlHeated SeatsNavigatio...\n",
      "112      Adaptive Cruise ControlHeated SeatsNavigatio...\n",
      "118      Adaptive Cruise ControlHeated SeatsHeated St...\n",
      "140      Adaptive Cruise ControlHeated SeatsKeyless S...\n",
      "Name: Convenience, dtype: object\n",
      "------------------------ HEAD -------------------------\n",
      "60         Apple CarPlay/Android AutoBluetoothUSB Port  \n",
      "107      Apple CarPlay/Android AutoBluetoothPremium S...\n",
      "112      Apple CarPlay/Android AutoBluetoothHomeLinkP...\n",
      "118      Apple CarPlay/Android AutoBluetoothPremium S...\n",
      "140      Apple CarPlay/Android AutoBluetoothPremium S...\n",
      "Name: Entertainment, dtype: object\n",
      "------------------------ HEAD -------------------------\n",
      "60                                   Leather Seats  \n",
      "107                       Leather SeatsMemory Seat  \n",
      "112      Leather SeatsMemory SeatThird Row Seating  \n",
      "118      Leather SeatsMemory SeatThird Row Seating  \n",
      "140                                  Leather Seats  \n",
      "Name: Seating, dtype: object\n",
      "------------------------ HEAD -------------------------\n",
      "60       Automatic Emergency BrakingBackup CameraBrak...\n",
      "107      Backup CameraBrake AssistLane Departure Warn...\n",
      "112      Backup CameraBrake AssistLane Departure Warn...\n",
      "118      Blind Spot MonitorBrake AssistStability Cont...\n",
      "140      Automatic Emergency BrakingBackup CameraBrak...\n",
      "Name: Safety, dtype: object\n",
      "------------------------ HEAD -------------------------\n",
      "60       Alloy WheelsSunroof/Moonroof  \n",
      "107      Alloy WheelsSunroof/Moonroof  \n",
      "112      Alloy WheelsSunroof/Moonroof  \n",
      "118      Alloy WheelsSunroof/Moonroof  \n",
      "140      Alloy WheelsSunroof/Moonroof  \n",
      "Name: Exterior, dtype: object\n"
     ]
    }
   ],
   "source": [
    "print(\"------------------------ HEAD -------------------------\")\n",
    "print(df['Convenience'].head())\n",
    "print(\"------------------------ HEAD -------------------------\")\n",
    "print(df['Entertainment'].head())\n",
    "print(\"------------------------ HEAD -------------------------\")\n",
    "print(df['Seating'].head())\n",
    "print(\"------------------------ HEAD -------------------------\")\n",
    "print(df['Safety'].head())\n",
    "print(\"------------------------ HEAD -------------------------\")\n",
    "print(df['Exterior'].head())"
   ]
  },
  {
   "cell_type": "code",
   "execution_count": 15,
   "id": "b2c1a7ba-bf4b-4082-9d2d-220f0124d83f",
   "metadata": {},
   "outputs": [],
   "source": [
    "# Crear columnas Dummy a partir de los datos contenidos en la columna \"Convenience\"\n",
    "# Nombres a buscar\n",
    "nombres_a_buscar = ['Adaptive Cruise Control', 'Heated Seats', 'Cooled Seats', 'Keyless Start', \n",
    "                    'Navigation System', 'Power Liftgate', 'Remote Start', 'Heated Steering Wheel']\n",
    "\n",
    "# Crear una máscara booleana para cada columna en base a la columna 'Convenience'\n",
    "mascaras = df['Convenience'].str.contains('|'.join(nombres_a_buscar), na=False)\n",
    "\n",
    "# Asignar los valores a las columnas correspondientes\n",
    "df.loc[mascaras, nombres_a_buscar] = 1\n",
    "df[nombres_a_buscar] = df[nombres_a_buscar].fillna(0)\n",
    "\n",
    "# Eliminar la columna 'Convenience'\n",
    "df = df.drop(columns=['Convenience'])"
   ]
  },
  {
   "cell_type": "code",
   "execution_count": 16,
   "id": "bbbfcfef-1f21-46f8-b2d2-006b45c9066a",
   "metadata": {},
   "outputs": [],
   "source": [
    "# Crear columnas Dummy a partir de los datos contenidos en la columna \"Entertainment\"\n",
    "# Nombres a buscar\n",
    "nombres_a_buscar = ['Apple CarPlay/Android Auto', 'USB Port', 'Premium Sound System', 'Bluetooth', 'HomeLink', 'Rear Seat Entertainment']\n",
    "\n",
    "# Crear una máscara booleana para cada columna en base a la columna 'Entertainment'\n",
    "mascaras = df['Entertainment'].str.contains('|'.join(nombres_a_buscar), na=False)\n",
    "\n",
    "# Asignar los valores a las columnas correspondientes\n",
    "df.loc[mascaras, nombres_a_buscar] = 1\n",
    "df[nombres_a_buscar] = df[nombres_a_buscar].fillna(0)\n",
    "\n",
    "# Eliminar la columna 'Entertainment'\n",
    "df = df.drop(columns=['Entertainment'])"
   ]
  },
  {
   "cell_type": "code",
   "execution_count": 17,
   "id": "d55dee94-e17c-4778-9964-0929d737bbf9",
   "metadata": {},
   "outputs": [],
   "source": [
    "# Crear columnas Dummy a partir de los datos contenidos en la columna \"Seating\"\n",
    "# Nombres a buscar\n",
    "nombres_a_buscar = ['Memory Seat', 'Third Row Seating', 'Leather Seats']\n",
    "\n",
    "# Crear una máscara booleana para cada columna en base a la columna 'Seating'\n",
    "mascaras = df['Seating'].str.contains('|'.join(nombres_a_buscar), na=False)\n",
    "\n",
    "# Asignar los valores a las columnas correspondientes\n",
    "df.loc[mascaras, nombres_a_buscar] = 1\n",
    "df[nombres_a_buscar] = df[nombres_a_buscar].fillna(0)\n",
    "\n",
    "# Eliminar la columna 'Seating'\n",
    "df = df.drop(columns=['Seating'])"
   ]
  },
  {
   "cell_type": "code",
   "execution_count": 18,
   "id": "35957935-7028-44bf-9f58-1dd4bc673352",
   "metadata": {},
   "outputs": [],
   "source": [
    "# Crear columnas Dummy a partir de los datos contenidos en la columna \"Safety\"\n",
    "# Nombres a buscar\n",
    "nombres_a_buscar = ['Blind Spot Monitor', 'Rear Cross Traffic Alert', 'Backup Camera', 'Lane Departure Warning']\n",
    "\n",
    "# Crear una máscara booleana para cada columna en base a la columna 'Safety'\n",
    "mascaras = df['Safety'].str.contains('|'.join(nombres_a_buscar), na=False)\n",
    "\n",
    "# Asignar los valores a las columnas correspondientes\n",
    "df.loc[mascaras, nombres_a_buscar] = 1\n",
    "df[nombres_a_buscar] = df[nombres_a_buscar].fillna(0)\n",
    "\n",
    "# Eliminar la columna 'Safety'\n",
    "df = df.drop(columns=['Safety'])"
   ]
  },
  {
   "cell_type": "code",
   "execution_count": 19,
   "id": "d7964098-faf0-4e1e-902e-77514985bead",
   "metadata": {},
   "outputs": [],
   "source": [
    "# Crear columnas Dummy a partir de los datos contenidos en la columna \"Exterior\"\n",
    "# Nombres a buscar\n",
    "nombres_a_buscar = ['Alloy Wheels', 'Sunroof/Moonroof', 'Tow Hitch', 'Tow Hooks']\n",
    "\n",
    "# Crear una máscara booleana para cada columna en base a la columna 'Exterior'\n",
    "mascaras = df['Exterior'].str.contains('|'.join(nombres_a_buscar), na=False)\n",
    "\n",
    "# Asignar los valores a las columnas correspondientes\n",
    "df.loc[mascaras, nombres_a_buscar] = 1\n",
    "df[nombres_a_buscar] = df[nombres_a_buscar].fillna(0)\n",
    "\n",
    "# Eliminar la columna 'Exterior'\n",
    "df = df.drop(columns=['Exterior'])"
   ]
  },
  {
   "cell_type": "code",
   "execution_count": 20,
   "id": "29eafecf-3826-4e9e-8bc3-08665b189fb7",
   "metadata": {},
   "outputs": [
    {
     "name": "stdout",
     "output_type": "stream",
     "text": [
      "------------------------ INFO -------------------------\n",
      "<class 'pandas.core.frame.DataFrame'>\n",
      "Index: 146210 entries, 60 to 175489\n",
      "Data columns (total 42 columns):\n",
      " #   Column                      Non-Null Count   Dtype  \n",
      "---  ------                      --------------   -----  \n",
      " 0   Name                        146210 non-null  object \n",
      " 1   Year                        146210 non-null  int64  \n",
      " 2   Brand                       146210 non-null  object \n",
      " 3   Model                       146210 non-null  object \n",
      " 4   Usado (tipo)                146210 non-null  object \n",
      " 5   Price                       146210 non-null  int64  \n",
      " 6   Exterior color              144492 non-null  object \n",
      " 7   Interior color              133643 non-null  object \n",
      " 8   Drivetrain                  145727 non-null  object \n",
      " 9   MPG                         134117 non-null  object \n",
      " 10  Fuel type                   144935 non-null  object \n",
      " 11  Transmission                145838 non-null  object \n",
      " 12  Engine                      145923 non-null  object \n",
      " 13  Mileage                     146163 non-null  float64\n",
      " 14  Accidents or damage         122916 non-null  object \n",
      " 15  1-owner vehicle             122691 non-null  object \n",
      " 16  Personal use only           122915 non-null  object \n",
      " 17  Adaptive Cruise Control     146210 non-null  float64\n",
      " 18  Heated Seats                146210 non-null  float64\n",
      " 19  Cooled Seats                146210 non-null  float64\n",
      " 20  Keyless Start               146210 non-null  float64\n",
      " 21  Navigation System           146210 non-null  float64\n",
      " 22  Power Liftgate              146210 non-null  float64\n",
      " 23  Remote Start                146210 non-null  float64\n",
      " 24  Heated Steering Wheel       146210 non-null  float64\n",
      " 25  Apple CarPlay/Android Auto  146210 non-null  float64\n",
      " 26  USB Port                    146210 non-null  float64\n",
      " 27  Premium Sound System        146210 non-null  float64\n",
      " 28  Bluetooth                   146210 non-null  float64\n",
      " 29  HomeLink                    146210 non-null  float64\n",
      " 30  Rear Seat Entertainment     146210 non-null  float64\n",
      " 31  Memory Seat                 146210 non-null  float64\n",
      " 32  Third Row Seating           146210 non-null  float64\n",
      " 33  Leather Seats               146210 non-null  float64\n",
      " 34  Blind Spot Monitor          146210 non-null  float64\n",
      " 35  Rear Cross Traffic Alert    146210 non-null  float64\n",
      " 36  Backup Camera               146210 non-null  float64\n",
      " 37  Lane Departure Warning      146210 non-null  float64\n",
      " 38  Alloy Wheels                146210 non-null  float64\n",
      " 39  Sunroof/Moonroof            146210 non-null  float64\n",
      " 40  Tow Hitch                   146210 non-null  float64\n",
      " 41  Tow Hooks                   146210 non-null  float64\n",
      "dtypes: float64(26), int64(2), object(14)\n",
      "memory usage: 48.0+ MB\n",
      "None\n"
     ]
    }
   ],
   "source": [
    "print(\"------------------------ INFO -------------------------\")\n",
    "print(df.info())"
   ]
  },
  {
   "cell_type": "markdown",
   "id": "2cc0d146-7047-422c-b494-5d9bfe884642",
   "metadata": {},
   "source": [
    "### Tratamiento de NaN"
   ]
  },
  {
   "cell_type": "markdown",
   "id": "48f19e9d-8da5-4b61-af8b-fe17d3bf8725",
   "metadata": {},
   "source": [
    "Primero observaremos el porcentaje de NaN en cada columna."
   ]
  },
  {
   "cell_type": "code",
   "execution_count": 21,
   "id": "e656aff6-027a-4876-916c-2b6aa3f66137",
   "metadata": {},
   "outputs": [
    {
     "name": "stdout",
     "output_type": "stream",
     "text": [
      "-------------- NULL (%) ---------------\n"
     ]
    },
    {
     "data": {
      "text/plain": [
       "Name                           0.000000\n",
       "Year                           0.000000\n",
       "Brand                          0.000000\n",
       "Model                          0.000000\n",
       "Usado (tipo)                   0.000000\n",
       "Price                          0.000000\n",
       "Exterior color                 1.175022\n",
       "Interior color                 8.595171\n",
       "Drivetrain                     0.330347\n",
       "MPG                            8.270980\n",
       "Fuel type                      0.872033\n",
       "Transmission                   0.254429\n",
       "Engine                         0.196293\n",
       "Mileage                        0.032146\n",
       "Accidents or damage           15.931879\n",
       "1-owner vehicle               16.085767\n",
       "Personal use only             15.932563\n",
       "Adaptive Cruise Control        0.000000\n",
       "Heated Seats                   0.000000\n",
       "Cooled Seats                   0.000000\n",
       "Keyless Start                  0.000000\n",
       "Navigation System              0.000000\n",
       "Power Liftgate                 0.000000\n",
       "Remote Start                   0.000000\n",
       "Heated Steering Wheel          0.000000\n",
       "Apple CarPlay/Android Auto     0.000000\n",
       "USB Port                       0.000000\n",
       "Premium Sound System           0.000000\n",
       "Bluetooth                      0.000000\n",
       "HomeLink                       0.000000\n",
       "Rear Seat Entertainment        0.000000\n",
       "Memory Seat                    0.000000\n",
       "Third Row Seating              0.000000\n",
       "Leather Seats                  0.000000\n",
       "Blind Spot Monitor             0.000000\n",
       "Rear Cross Traffic Alert       0.000000\n",
       "Backup Camera                  0.000000\n",
       "Lane Departure Warning         0.000000\n",
       "Alloy Wheels                   0.000000\n",
       "Sunroof/Moonroof               0.000000\n",
       "Tow Hitch                      0.000000\n",
       "Tow Hooks                      0.000000\n",
       "dtype: float64"
      ]
     },
     "execution_count": 21,
     "metadata": {},
     "output_type": "execute_result"
    }
   ],
   "source": [
    "print(\"-------------- NULL (%) ---------------\")\n",
    "df.isnull().sum()/df.shape[0] * 100"
   ]
  },
  {
   "cell_type": "markdown",
   "id": "511329ec-9ccc-41a3-9a32-8cbf9217a5b6",
   "metadata": {},
   "source": [
    "Podemos observar varias columnas con diversos porcentajes de valores NaN, primero eliminaremos las filas que contengan NaN en todas aquellas columnas con un porcentaje menor al 1%, ya que hacerlo no tendrá un impacto mayor en nuestro análisis, sobre todo teniendo en cuenta el tamaño de nuestro dataset."
   ]
  },
  {
   "cell_type": "code",
   "execution_count": 22,
   "id": "0d8d78e5-b894-4d51-bf4b-440185f33033",
   "metadata": {},
   "outputs": [
    {
     "name": "stdout",
     "output_type": "stream",
     "text": [
      "-------------- NULL (%) ---------------\n"
     ]
    },
    {
     "data": {
      "text/plain": [
       "Name                           0.000000\n",
       "Year                           0.000000\n",
       "Brand                          0.000000\n",
       "Model                          0.000000\n",
       "Usado (tipo)                   0.000000\n",
       "Price                          0.000000\n",
       "Exterior color                 1.159350\n",
       "Interior color                 8.478570\n",
       "Drivetrain                     0.000000\n",
       "MPG                            7.880531\n",
       "Fuel type                      0.000000\n",
       "Transmission                   0.000000\n",
       "Engine                         0.000000\n",
       "Mileage                        0.000000\n",
       "Accidents or damage           15.806105\n",
       "1-owner vehicle               15.954402\n",
       "Personal use only             15.806798\n",
       "Adaptive Cruise Control        0.000000\n",
       "Heated Seats                   0.000000\n",
       "Cooled Seats                   0.000000\n",
       "Keyless Start                  0.000000\n",
       "Navigation System              0.000000\n",
       "Power Liftgate                 0.000000\n",
       "Remote Start                   0.000000\n",
       "Heated Steering Wheel          0.000000\n",
       "Apple CarPlay/Android Auto     0.000000\n",
       "USB Port                       0.000000\n",
       "Premium Sound System           0.000000\n",
       "Bluetooth                      0.000000\n",
       "HomeLink                       0.000000\n",
       "Rear Seat Entertainment        0.000000\n",
       "Memory Seat                    0.000000\n",
       "Third Row Seating              0.000000\n",
       "Leather Seats                  0.000000\n",
       "Blind Spot Monitor             0.000000\n",
       "Rear Cross Traffic Alert       0.000000\n",
       "Backup Camera                  0.000000\n",
       "Lane Departure Warning         0.000000\n",
       "Alloy Wheels                   0.000000\n",
       "Sunroof/Moonroof               0.000000\n",
       "Tow Hitch                      0.000000\n",
       "Tow Hooks                      0.000000\n",
       "dtype: float64"
      ]
     },
     "execution_count": 22,
     "metadata": {},
     "output_type": "execute_result"
    }
   ],
   "source": [
    "df.dropna(subset = [\"Drivetrain\",\"Fuel type\",\"Transmission\",\"Engine\",\"Mileage\"], inplace = True)\n",
    "\n",
    "print(\"-------------- NULL (%) ---------------\")\n",
    "df.isnull().sum()/df.shape[0] * 100"
   ]
  },
  {
   "cell_type": "markdown",
   "id": "820bdf83-48dd-4d76-9d73-873decd690c4",
   "metadata": {},
   "source": [
    "Observamos un 1.1% de valores NaN en la columna \"Exterior color\" y un 8.6% en la columna \"Interior color\", como estas columnas nos entregan información que puede ser de utilidad y los valores faltantes no llega al 10%, siendo esta una columna con datos categóricos, reemplazaremos los datos faltantes (NaN) por la moda de cada columna."
   ]
  },
  {
   "cell_type": "code",
   "execution_count": 23,
   "id": "0f85fa93-6995-4278-8808-cc57595b3d03",
   "metadata": {},
   "outputs": [
    {
     "name": "stdout",
     "output_type": "stream",
     "text": [
      "-------------- NULL (%) ---------------\n"
     ]
    },
    {
     "data": {
      "text/plain": [
       "Name                           0.000000\n",
       "Year                           0.000000\n",
       "Brand                          0.000000\n",
       "Model                          0.000000\n",
       "Usado (tipo)                   0.000000\n",
       "Price                          0.000000\n",
       "Exterior color                 0.000000\n",
       "Interior color                 0.000000\n",
       "Drivetrain                     0.000000\n",
       "MPG                            7.880531\n",
       "Fuel type                      0.000000\n",
       "Transmission                   0.000000\n",
       "Engine                         0.000000\n",
       "Mileage                        0.000000\n",
       "Accidents or damage           15.806105\n",
       "1-owner vehicle               15.954402\n",
       "Personal use only             15.806798\n",
       "Adaptive Cruise Control        0.000000\n",
       "Heated Seats                   0.000000\n",
       "Cooled Seats                   0.000000\n",
       "Keyless Start                  0.000000\n",
       "Navigation System              0.000000\n",
       "Power Liftgate                 0.000000\n",
       "Remote Start                   0.000000\n",
       "Heated Steering Wheel          0.000000\n",
       "Apple CarPlay/Android Auto     0.000000\n",
       "USB Port                       0.000000\n",
       "Premium Sound System           0.000000\n",
       "Bluetooth                      0.000000\n",
       "HomeLink                       0.000000\n",
       "Rear Seat Entertainment        0.000000\n",
       "Memory Seat                    0.000000\n",
       "Third Row Seating              0.000000\n",
       "Leather Seats                  0.000000\n",
       "Blind Spot Monitor             0.000000\n",
       "Rear Cross Traffic Alert       0.000000\n",
       "Backup Camera                  0.000000\n",
       "Lane Departure Warning         0.000000\n",
       "Alloy Wheels                   0.000000\n",
       "Sunroof/Moonroof               0.000000\n",
       "Tow Hitch                      0.000000\n",
       "Tow Hooks                      0.000000\n",
       "dtype: float64"
      ]
     },
     "execution_count": 23,
     "metadata": {},
     "output_type": "execute_result"
    }
   ],
   "source": [
    "df[\"Exterior color\"].fillna(df[\"Exterior color\"].mode()[0], inplace = True)\n",
    "df[\"Interior color\"].fillna(df[\"Interior color\"].mode()[0], inplace = True)\n",
    "\n",
    "print(\"-------------- NULL (%) ---------------\")\n",
    "df.isnull().sum()/df.shape[0] * 100"
   ]
  },
  {
   "cell_type": "code",
   "execution_count": 24,
   "id": "6f14a481-e4a2-4b93-9944-c4732111e0de",
   "metadata": {},
   "outputs": [
    {
     "name": "stdout",
     "output_type": "stream",
     "text": [
      "------------------------ INFO -------------------------\n",
      "<class 'pandas.core.frame.DataFrame'>\n",
      "Index: 144305 entries, 60 to 175489\n",
      "Data columns (total 42 columns):\n",
      " #   Column                      Non-Null Count   Dtype  \n",
      "---  ------                      --------------   -----  \n",
      " 0   Name                        144305 non-null  object \n",
      " 1   Year                        144305 non-null  int64  \n",
      " 2   Brand                       144305 non-null  object \n",
      " 3   Model                       144305 non-null  object \n",
      " 4   Usado (tipo)                144305 non-null  object \n",
      " 5   Price                       144305 non-null  int64  \n",
      " 6   Exterior color              144305 non-null  object \n",
      " 7   Interior color              144305 non-null  object \n",
      " 8   Drivetrain                  144305 non-null  object \n",
      " 9   MPG                         132933 non-null  object \n",
      " 10  Fuel type                   144305 non-null  object \n",
      " 11  Transmission                144305 non-null  object \n",
      " 12  Engine                      144305 non-null  object \n",
      " 13  Mileage                     144305 non-null  float64\n",
      " 14  Accidents or damage         121496 non-null  object \n",
      " 15  1-owner vehicle             121282 non-null  object \n",
      " 16  Personal use only           121495 non-null  object \n",
      " 17  Adaptive Cruise Control     144305 non-null  float64\n",
      " 18  Heated Seats                144305 non-null  float64\n",
      " 19  Cooled Seats                144305 non-null  float64\n",
      " 20  Keyless Start               144305 non-null  float64\n",
      " 21  Navigation System           144305 non-null  float64\n",
      " 22  Power Liftgate              144305 non-null  float64\n",
      " 23  Remote Start                144305 non-null  float64\n",
      " 24  Heated Steering Wheel       144305 non-null  float64\n",
      " 25  Apple CarPlay/Android Auto  144305 non-null  float64\n",
      " 26  USB Port                    144305 non-null  float64\n",
      " 27  Premium Sound System        144305 non-null  float64\n",
      " 28  Bluetooth                   144305 non-null  float64\n",
      " 29  HomeLink                    144305 non-null  float64\n",
      " 30  Rear Seat Entertainment     144305 non-null  float64\n",
      " 31  Memory Seat                 144305 non-null  float64\n",
      " 32  Third Row Seating           144305 non-null  float64\n",
      " 33  Leather Seats               144305 non-null  float64\n",
      " 34  Blind Spot Monitor          144305 non-null  float64\n",
      " 35  Rear Cross Traffic Alert    144305 non-null  float64\n",
      " 36  Backup Camera               144305 non-null  float64\n",
      " 37  Lane Departure Warning      144305 non-null  float64\n",
      " 38  Alloy Wheels                144305 non-null  float64\n",
      " 39  Sunroof/Moonroof            144305 non-null  float64\n",
      " 40  Tow Hitch                   144305 non-null  float64\n",
      " 41  Tow Hooks                   144305 non-null  float64\n",
      "dtypes: float64(26), int64(2), object(14)\n",
      "memory usage: 47.3+ MB\n",
      "None\n"
     ]
    }
   ],
   "source": [
    "print(\"------------------------ INFO -------------------------\")\n",
    "print(df.info())"
   ]
  },
  {
   "cell_type": "markdown",
   "id": "169c2735-af79-4a0b-a659-46594fe3b832",
   "metadata": {},
   "source": [
    "Ahora trataremos las columnas que aún tienen NaN, en este caso: \"MPG\", \"Accidents or damage\", \"1-owner vehicle\" y \"Personal use only\", como podemos observar todos ellos tienen datos tipo \"object\" lo que nos da a entender que contienen variables categóricas, al tener altos porcentajes de NaN y entregar información relevante para nuestro estudio, reemplazaremos los NaN con la moda de cada columna."
   ]
  },
  {
   "cell_type": "code",
   "execution_count": 25,
   "id": "0646cd41-e2c7-435d-b2a5-104255e13988",
   "metadata": {},
   "outputs": [
    {
     "name": "stdout",
     "output_type": "stream",
     "text": [
      "-------------- NULL (%) ---------------\n"
     ]
    },
    {
     "data": {
      "text/plain": [
       "Name                          0.0\n",
       "Year                          0.0\n",
       "Brand                         0.0\n",
       "Model                         0.0\n",
       "Usado (tipo)                  0.0\n",
       "Price                         0.0\n",
       "Exterior color                0.0\n",
       "Interior color                0.0\n",
       "Drivetrain                    0.0\n",
       "MPG                           0.0\n",
       "Fuel type                     0.0\n",
       "Transmission                  0.0\n",
       "Engine                        0.0\n",
       "Mileage                       0.0\n",
       "Accidents or damage           0.0\n",
       "1-owner vehicle               0.0\n",
       "Personal use only             0.0\n",
       "Adaptive Cruise Control       0.0\n",
       "Heated Seats                  0.0\n",
       "Cooled Seats                  0.0\n",
       "Keyless Start                 0.0\n",
       "Navigation System             0.0\n",
       "Power Liftgate                0.0\n",
       "Remote Start                  0.0\n",
       "Heated Steering Wheel         0.0\n",
       "Apple CarPlay/Android Auto    0.0\n",
       "USB Port                      0.0\n",
       "Premium Sound System          0.0\n",
       "Bluetooth                     0.0\n",
       "HomeLink                      0.0\n",
       "Rear Seat Entertainment       0.0\n",
       "Memory Seat                   0.0\n",
       "Third Row Seating             0.0\n",
       "Leather Seats                 0.0\n",
       "Blind Spot Monitor            0.0\n",
       "Rear Cross Traffic Alert      0.0\n",
       "Backup Camera                 0.0\n",
       "Lane Departure Warning        0.0\n",
       "Alloy Wheels                  0.0\n",
       "Sunroof/Moonroof              0.0\n",
       "Tow Hitch                     0.0\n",
       "Tow Hooks                     0.0\n",
       "dtype: float64"
      ]
     },
     "execution_count": 25,
     "metadata": {},
     "output_type": "execute_result"
    }
   ],
   "source": [
    "df[\"MPG\"].fillna(df[\"MPG\"].mode()[0], inplace = True)\n",
    "df[\"Accidents or damage\"].fillna(df[\"Accidents or damage\"].mode()[0], inplace = True)\n",
    "df[\"1-owner vehicle\"].fillna(df[\"1-owner vehicle\"].mode()[0], inplace = True)\n",
    "df[\"Personal use only\"].fillna(df[\"Personal use only\"].mode()[0], inplace = True)\n",
    "\n",
    "print(\"-------------- NULL (%) ---------------\")\n",
    "df.isnull().sum()/df.shape[0] * 100"
   ]
  },
  {
   "cell_type": "markdown",
   "id": "178f7167-0d67-4a7b-8064-06e014d4c2d2",
   "metadata": {},
   "source": [
    "## Estructurando el dataset (Feature Engineering Parte 2)"
   ]
  },
  {
   "cell_type": "markdown",
   "id": "563ff315-d6ff-4055-a7ab-147930b4bf3d",
   "metadata": {},
   "source": [
    "Habiendo tratado los NaN seguiremos con la estructuración de nuestro dataset y la ingeniería de características. Ahora crearemos columnas Dummy para las columnas \"Exterior color\" e \"Interior color\", pero lo haremos agrupando los datos en grupos por color, asignando un 1 cuando dicho color se encuentre presente en la columna correspondiente y un cero en caso de no contenerlo. Si la columna de origen no contiene ninguna de los colores filtrados se pondrá un 1 en las columnas \"Color_Other\" o \"IntColor_Other\" según corresponda."
   ]
  },
  {
   "cell_type": "code",
   "execution_count": 26,
   "id": "edc0b8b6-47c7-4606-b978-52e62417af4f",
   "metadata": {},
   "outputs": [],
   "source": [
    "# Convertir todas las palabras a minúsculas para que no se diferencie entre mayúsculas y minúsculas\n",
    "df['Exterior color'] = df['Exterior color'].str.lower()\n",
    "\n",
    "# Crear las columnas específicas y asignar 0 a todas las filas\n",
    "df['Color_Black'] = 0\n",
    "df['Color_White'] = 0\n",
    "df['Color_Gray'] = 0\n",
    "df['Color_Red'] = 0\n",
    "df['Color_Blue'] = 0\n",
    "df['Color_Brown'] = 0\n",
    "df['Color_Green'] = 0\n",
    "df['Color_Gold'] = 0\n",
    "df['Color_Orange'] = 0\n",
    "df['Color_Yellow'] = 0\n",
    "df['Color_Other'] = 0\n",
    "\n",
    "# Asignar 1 a las columnas correspondientes\n",
    "df.loc[df['Exterior color'].str.contains(r'black|graphite|ebony'), 'Color_Black'] = 1\n",
    "df.loc[df['Exterior color'].str.contains(r'white|blizzard'), 'Color_White'] = 1\n",
    "df.loc[df['Exterior color'].str.contains(r'gray|silver|gun|platinum|granite'), 'Color_Gray'] = 1\n",
    "df.loc[df['Exterior color'].str.contains(r'red|maroon'), 'Color_Red'] = 1\n",
    "df.loc[df['Exterior color'].str.contains(r'blue'), 'Color_Blue'] = 1\n",
    "df.loc[df['Exterior color'].str.contains(r'brown'), 'Color_Brown'] = 1\n",
    "df.loc[df['Exterior color'].str.contains(r'green'), 'Color_Green'] = 1\n",
    "df.loc[df['Exterior color'].str.contains(r'gold'), 'Color_Gold'] = 1\n",
    "df.loc[df['Exterior color'].str.contains(r'orange'), 'Color_Orange'] = 1\n",
    "df.loc[df['Exterior color'].str.contains(r'yellow'), 'Color_Yellow'] = 1\n",
    "\n",
    "# Si no coincide con ninguna categoría, se considera 'Other'\n",
    "df.loc[(df['Color_Black'] + df['Color_White'] + df['Color_Gray'] + df['Color_Red'] +\n",
    "        df['Color_Blue'] + df['Color_Brown'] + df['Color_Green'] +\n",
    "        df['Color_Gold'] + df['Color_Orange'] + df['Color_Yellow']) == 0, 'Color_Other'] = 1\n",
    "\n",
    "# Convertir las columnas a tipo de dato booleano\n",
    "columnas_booleanas = ['Color_Black', 'Color_White', 'Color_Gray', 'Color_Red', 'Color_Blue',\n",
    "                      'Color_Brown', 'Color_Green', 'Color_Gold', 'Color_Orange', 'Color_Yellow', 'Color_Other']\n",
    "df[columnas_booleanas] = df[columnas_booleanas].astype(bool)"
   ]
  },
  {
   "cell_type": "code",
   "execution_count": 27,
   "id": "4ca65a7f-7bd7-47bb-b30a-212acb22032a",
   "metadata": {},
   "outputs": [],
   "source": [
    "# Convertir todas las palabras a minúsculas para que no se diferencie entre mayúsculas y minúsculas\n",
    "df['Interior color'] = df['Interior color'].str.lower()\n",
    "\n",
    "# Crear las columnas específicas y asignar 0 a todas las filas\n",
    "df['IntColor_Black'] = 0\n",
    "df['IntColor_White'] = 0\n",
    "df['IntColor_Gray'] = 0\n",
    "df['IntColor_Brown'] = 0\n",
    "df['IntColor_LightBrown'] = 0\n",
    "df['IntColor_Red'] = 0\n",
    "df['IntColor_Other'] = 0\n",
    "\n",
    "# Asignar 1 a las columnas correspondientes\n",
    "df.loc[df['Interior color'].str.contains(r'black|ebony|charcoal'), 'IntColor_Black'] = 1\n",
    "df.loc[df['Interior color'].str.contains(r'white|ivory|snow|cream'), 'IntColor_White'] = 1\n",
    "df.loc[df['Interior color'].str.contains(r'gray|silver|graphite|ash|stone|alloy|steel|rock|platinum|titanium'), 'IntColor_Gray'] = 1\n",
    "df.loc[df['Interior color'].str.contains(r'brown|walnut|chestnut|nougat|cognac|espresso'), 'IntColor_Brown'] = 1\n",
    "df.loc[df['Interior color'].str.contains(r'beige|tan|parchment|wheat|cappuccino|almond|sand|amber|camel'), 'IntColor_LightBrown'] = 1\n",
    "df.loc[df['Interior color'].str.contains(r'red'), 'IntColor_Red'] = 1\n",
    "\n",
    "# Si no coincide con ninguna categoría, se considera 'Other'\n",
    "df.loc[(df['IntColor_Black'] + df['IntColor_White'] + df['IntColor_Gray'] + df['IntColor_Brown'] +\n",
    "        df['IntColor_LightBrown'] + df['IntColor_Red']) == 0, 'IntColor_Other'] = 1\n",
    "\n",
    "# Convertir las columnas a tipo de dato booleano\n",
    "columnas_booleanas_interior = ['IntColor_Black', 'IntColor_White', 'IntColor_Gray', 'IntColor_Brown',\n",
    "                               'IntColor_LightBrown', 'IntColor_Red', 'IntColor_Other']\n",
    "df[columnas_booleanas_interior] = df[columnas_booleanas_interior].astype(bool)"
   ]
  },
  {
   "cell_type": "code",
   "execution_count": 28,
   "id": "1e47a4d4-ba8b-4c32-9d5d-904132b1648f",
   "metadata": {},
   "outputs": [
    {
     "name": "stdout",
     "output_type": "stream",
     "text": [
      "------------------------ INFO -------------------------\n",
      "<class 'pandas.core.frame.DataFrame'>\n",
      "Index: 144305 entries, 60 to 175489\n",
      "Data columns (total 60 columns):\n",
      " #   Column                      Non-Null Count   Dtype  \n",
      "---  ------                      --------------   -----  \n",
      " 0   Name                        144305 non-null  object \n",
      " 1   Year                        144305 non-null  int64  \n",
      " 2   Brand                       144305 non-null  object \n",
      " 3   Model                       144305 non-null  object \n",
      " 4   Usado (tipo)                144305 non-null  object \n",
      " 5   Price                       144305 non-null  int64  \n",
      " 6   Exterior color              144305 non-null  object \n",
      " 7   Interior color              144305 non-null  object \n",
      " 8   Drivetrain                  144305 non-null  object \n",
      " 9   MPG                         144305 non-null  object \n",
      " 10  Fuel type                   144305 non-null  object \n",
      " 11  Transmission                144305 non-null  object \n",
      " 12  Engine                      144305 non-null  object \n",
      " 13  Mileage                     144305 non-null  float64\n",
      " 14  Accidents or damage         144305 non-null  object \n",
      " 15  1-owner vehicle             144305 non-null  object \n",
      " 16  Personal use only           144305 non-null  object \n",
      " 17  Adaptive Cruise Control     144305 non-null  float64\n",
      " 18  Heated Seats                144305 non-null  float64\n",
      " 19  Cooled Seats                144305 non-null  float64\n",
      " 20  Keyless Start               144305 non-null  float64\n",
      " 21  Navigation System           144305 non-null  float64\n",
      " 22  Power Liftgate              144305 non-null  float64\n",
      " 23  Remote Start                144305 non-null  float64\n",
      " 24  Heated Steering Wheel       144305 non-null  float64\n",
      " 25  Apple CarPlay/Android Auto  144305 non-null  float64\n",
      " 26  USB Port                    144305 non-null  float64\n",
      " 27  Premium Sound System        144305 non-null  float64\n",
      " 28  Bluetooth                   144305 non-null  float64\n",
      " 29  HomeLink                    144305 non-null  float64\n",
      " 30  Rear Seat Entertainment     144305 non-null  float64\n",
      " 31  Memory Seat                 144305 non-null  float64\n",
      " 32  Third Row Seating           144305 non-null  float64\n",
      " 33  Leather Seats               144305 non-null  float64\n",
      " 34  Blind Spot Monitor          144305 non-null  float64\n",
      " 35  Rear Cross Traffic Alert    144305 non-null  float64\n",
      " 36  Backup Camera               144305 non-null  float64\n",
      " 37  Lane Departure Warning      144305 non-null  float64\n",
      " 38  Alloy Wheels                144305 non-null  float64\n",
      " 39  Sunroof/Moonroof            144305 non-null  float64\n",
      " 40  Tow Hitch                   144305 non-null  float64\n",
      " 41  Tow Hooks                   144305 non-null  float64\n",
      " 42  Color_Black                 144305 non-null  bool   \n",
      " 43  Color_White                 144305 non-null  bool   \n",
      " 44  Color_Gray                  144305 non-null  bool   \n",
      " 45  Color_Red                   144305 non-null  bool   \n",
      " 46  Color_Blue                  144305 non-null  bool   \n",
      " 47  Color_Brown                 144305 non-null  bool   \n",
      " 48  Color_Green                 144305 non-null  bool   \n",
      " 49  Color_Gold                  144305 non-null  bool   \n",
      " 50  Color_Orange                144305 non-null  bool   \n",
      " 51  Color_Yellow                144305 non-null  bool   \n",
      " 52  Color_Other                 144305 non-null  bool   \n",
      " 53  IntColor_Black              144305 non-null  bool   \n",
      " 54  IntColor_White              144305 non-null  bool   \n",
      " 55  IntColor_Gray               144305 non-null  bool   \n",
      " 56  IntColor_Brown              144305 non-null  bool   \n",
      " 57  IntColor_LightBrown         144305 non-null  bool   \n",
      " 58  IntColor_Red                144305 non-null  bool   \n",
      " 59  IntColor_Other              144305 non-null  bool   \n",
      "dtypes: bool(18), float64(26), int64(2), object(14)\n",
      "memory usage: 49.8+ MB\n",
      "None\n"
     ]
    }
   ],
   "source": [
    "print(\"------------------------ INFO -------------------------\")\n",
    "print(df.info())"
   ]
  },
  {
   "cell_type": "markdown",
   "id": "14b2ad8c-d175-47c7-91e0-650cce04252f",
   "metadata": {},
   "source": [
    "Ahora analizaremos la columna Price, esta es nuestra variable objetivo así que queremos que esté en la mejor forma posible."
   ]
  },
  {
   "cell_type": "code",
   "execution_count": 29,
   "id": "44bcd81d-2bbb-4728-afd4-cc5142f63f1d",
   "metadata": {},
   "outputs": [
    {
     "name": "stdout",
     "output_type": "stream",
     "text": [
      "------------------------ DESCRIBE -------------------------\n"
     ]
    },
    {
     "data": {
      "text/plain": [
       "count    144305.00\n",
       "mean      30248.87\n",
       "std       20963.47\n",
       "min        1895.00\n",
       "25%       18650.00\n",
       "50%       25995.00\n",
       "75%       35990.00\n",
       "max     2200000.00\n",
       "Name: Price, dtype: float64"
      ]
     },
     "execution_count": 29,
     "metadata": {},
     "output_type": "execute_result"
    }
   ],
   "source": [
    "# Configurar Pandas para que no use notación científica\n",
    "pd.set_option('display.float_format', '{:.2f}'.format)\n",
    "\n",
    "print(\"------------------------ DESCRIBE -------------------------\")\n",
    "df[\"Price\"].describe()"
   ]
  },
  {
   "cell_type": "markdown",
   "id": "a480a2c6-d226-4c6e-9246-e410856ffdf2",
   "metadata": {},
   "source": [
    "Podemos observar que el valor mínimo y máximo están muy separados, además el valor máximo se escapa demasiado del percentil 75. Por ello eliminaremos los outliers."
   ]
  },
  {
   "cell_type": "code",
   "execution_count": 30,
   "id": "76a48771-5155-4589-b630-bc4123f2a2a8",
   "metadata": {},
   "outputs": [
    {
     "name": "stdout",
     "output_type": "stream",
     "text": [
      "------------------------ SHAPE ------------------------\n",
      "(137367, 60)\n"
     ]
    }
   ],
   "source": [
    "# Calcular el rango intercuartílico (IQR)\n",
    "Q1 = df['Price'].quantile(0.25)\n",
    "Q3 = df['Price'].quantile(0.75)\n",
    "IQR = Q3 - Q1\n",
    "\n",
    "# Definir los límites para los valores atípicos\n",
    "lower_bound = Q1 - 1.5 * IQR\n",
    "upper_bound = Q3 + 1.5 * IQR\n",
    "\n",
    "# Filtrar los valores atípicos\n",
    "df = df[(df['Price'] >= lower_bound) & (df['Price'] <= upper_bound)]\n",
    "\n",
    "print(\"------------------------ SHAPE ------------------------\")\n",
    "print(df.shape)"
   ]
  },
  {
   "cell_type": "code",
   "execution_count": 31,
   "id": "0b182ea8-848e-40e0-a2dd-492db49e0f45",
   "metadata": {},
   "outputs": [
    {
     "name": "stdout",
     "output_type": "stream",
     "text": [
      "------------------------ DESCRIBE -------------------------\n"
     ]
    },
    {
     "data": {
      "text/plain": [
       "count   137367.00\n",
       "mean     27105.63\n",
       "std      11605.86\n",
       "min       1895.00\n",
       "25%      18000.00\n",
       "50%      25223.00\n",
       "75%      33998.00\n",
       "max      62000.00\n",
       "Name: Price, dtype: float64"
      ]
     },
     "execution_count": 31,
     "metadata": {},
     "output_type": "execute_result"
    }
   ],
   "source": [
    "print(\"------------------------ DESCRIBE -------------------------\")\n",
    "df[\"Price\"].describe()"
   ]
  },
  {
   "cell_type": "markdown",
   "id": "8a0121d0-ae4c-4ba0-b985-26f073b122e9",
   "metadata": {},
   "source": [
    "Podemos observar que ahora los valores se encuentran mucho más cerca los unos de los otros. Sabiendo que Price es nuestra variable objetivo, la graficaremos para ver su distribución."
   ]
  },
  {
   "cell_type": "code",
   "execution_count": 32,
   "id": "49e26b62-1276-4c79-bd9f-63259a19db69",
   "metadata": {},
   "outputs": [
    {
     "data": {
      "image/png": "[encoded data removed]",
      "text/plain": [
       "<Figure size 640x480 with 1 Axes>"
      ]
     },
     "metadata": {},
     "output_type": "display_data"
    }
   ],
   "source": [
    "# Calcular la media, cuartil 25 y cuartil 75\n",
    "mean_price = df['Price'].mean()\n",
    "q25 = df['Price'].quantile(0.25)\n",
    "q75 = df['Price'].quantile(0.75)\n",
    "\n",
    "# Crear el histograma\n",
    "plt.hist(df['Price'], bins=30, color='skyblue', edgecolor='black')\n",
    "\n",
    "# Añadir líneas verticales para la media, cuartil 25 y cuartil 75\n",
    "plt.axvline(mean_price, color='red', linestyle='dashed', linewidth=1, label='Media')\n",
    "plt.axvline(q25, color='green', linestyle='dashed', linewidth=1, label='Cuartil 25')\n",
    "plt.axvline(q75, color='blue', linestyle='dashed', linewidth=1, label='Cuartil 75')\n",
    "\n",
    "# Añadir leyenda y etiquetas\n",
    "plt.legend()\n",
    "plt.xlabel('Price')\n",
    "plt.ylabel('Frequency')\n",
    "plt.title('Histograma de Price con Media, Cuartil 25 y Cuartil 75')\n",
    "\n",
    "# Mostrar el histograma\n",
    "plt.show()"
   ]
  },
  {
   "cell_type": "markdown",
   "id": "031614ac-3f77-4198-a68f-dce21bd93038",
   "metadata": {},
   "source": [
    "Como podemos ver, la distribución de la variable objetico presenta un sesgo a la derecha, por lo cual aplicaremos una transformación logarítmica y graficaremos nuevamente."
   ]
  },
  {
   "cell_type": "code",
   "execution_count": 33,
   "id": "6ba17462-fdf3-4130-b945-a5bc0efcbcf5",
   "metadata": {},
   "outputs": [],
   "source": [
    "# Aplicar la transformación logarítmica a la columna \"Price\"\n",
    "df['Price_log'] = np.log(df['Price'])"
   ]
  },
  {
   "cell_type": "code",
   "execution_count": 34,
   "id": "a2261760-423e-4752-b52a-f07e1e114481",
   "metadata": {},
   "outputs": [
    {
     "data": {
      "image/png": "[encoded data removed]",
      "text/plain": [
       "<Figure size 640x480 with 1 Axes>"
      ]
     },
     "metadata": {},
     "output_type": "display_data"
    }
   ],
   "source": [
    "# Calcular la media, cuartil 25 y cuartil 75\n",
    "mean_price = df['Price_log'].mean()\n",
    "q25 = df['Price_log'].quantile(0.25)\n",
    "q75 = df['Price_log'].quantile(0.75)\n",
    "\n",
    "# Crear el histograma\n",
    "plt.hist(df['Price_log'], bins=30, color='skyblue', edgecolor='black')\n",
    "\n",
    "# Añadir líneas verticales para la media, cuartil 25 y cuartil 75\n",
    "plt.axvline(mean_price, color='red', linestyle='dashed', linewidth=1, label='Media')\n",
    "plt.axvline(q25, color='green', linestyle='dashed', linewidth=1, label='Cuartil 25')\n",
    "plt.axvline(q75, color='blue', linestyle='dashed', linewidth=1, label='Cuartil 75')\n",
    "\n",
    "# Añadir leyenda y etiquetas\n",
    "plt.legend()\n",
    "plt.xlabel('Price_log')\n",
    "plt.ylabel('Frequency')\n",
    "plt.title('Histograma de Price con Media, Cuartil 25 y Cuartil 75')\n",
    "\n",
    "# Mostrar el histograma\n",
    "plt.show()"
   ]
  },
  {
   "cell_type": "markdown",
   "id": "8d858db0-bd2d-48d7-8d6c-37b9c2e7c4f2",
   "metadata": {},
   "source": [
    "De esta manera, se puede apreciar una distribución más similar a una distribución \"Normal\", obteniendo una forma más simétrica de la variable."
   ]
  },
  {
   "cell_type": "markdown",
   "id": "b52b60b4-b24e-4fcd-98f3-ae1c17547fda",
   "metadata": {},
   "source": [
    "Ahora trataremos la columna \"MPG\", como hemos visto esta posee strings con el rango de Millas por Galón de cada uno de los automóviles, esta es una información muy relevante para nuestro estudio, pero en el estado actual no nos es muy útil, es por ello que para cada rango calcularemos el promedio y lo reemplazaremos en la columna."
   ]
  },
  {
   "cell_type": "code",
   "execution_count": 35,
   "id": "7c5918ba-4103-498f-aded-fe0b3b3159bb",
   "metadata": {},
   "outputs": [
    {
     "name": "stdout",
     "output_type": "stream",
     "text": [
      "60      29–36\n",
      "107     29–36\n",
      "112     19–25\n",
      "118     19–25\n",
      "140     29–36\n",
      "Name: MPG, dtype: object\n",
      "60    32.50\n",
      "107   32.50\n",
      "112   22.00\n",
      "118   22.00\n",
      "140   32.50\n",
      "Name: MPG_mean, dtype: float64\n"
     ]
    }
   ],
   "source": [
    "def promedio_rango(rango):\n",
    "    if isinstance(rango, str):\n",
    "        valores = [float(valor) if '.' in valor else int(valor) for valor in rango.replace('–', '-').split('-')]\n",
    "        return sum(valores) / len(valores)\n",
    "    else:\n",
    "        return rango  # Si el valor no es una cadena, simplemente lo retornamos\n",
    "\n",
    "# Aplicamos la función a la columna 'MPG' y creamos la nueva columna 'MpG'\n",
    "df['MPG_mean'] = df['MPG'].apply(promedio_rango)\n",
    "\n",
    "print(df[\"MPG\"].head())\n",
    "print(df[\"MPG_mean\"].head())"
   ]
  },
  {
   "cell_type": "markdown",
   "id": "d16e6f46-3e35-42ca-a4a7-66e4a7756e69",
   "metadata": {},
   "source": [
    "Observamos que nuestra función se ha aplicado correctamente y ahora tenemos una columna \"MPG_mean\" que contiene el promedio del rango correspondiente en la columna \"MPG\" y ahora esta columna es del tipo float64. Revisaremos esta nueva columna buscando valores atípicos."
   ]
  },
  {
   "cell_type": "code",
   "execution_count": 36,
   "id": "91cbc26a-fa7e-4e94-be4c-c97e7107cedb",
   "metadata": {},
   "outputs": [
    {
     "name": "stdout",
     "output_type": "stream",
     "text": [
      "------------------------ DESCRIBE -------------------------\n"
     ]
    },
    {
     "data": {
      "text/plain": [
       "count   137367.00\n",
       "mean        24.54\n",
       "std          5.65\n",
       "min          0.00\n",
       "25%         21.50\n",
       "50%         23.50\n",
       "75%         27.50\n",
       "max        127.50\n",
       "Name: MPG_mean, dtype: float64"
      ]
     },
     "execution_count": 36,
     "metadata": {},
     "output_type": "execute_result"
    }
   ],
   "source": [
    "print(\"------------------------ DESCRIBE -------------------------\")\n",
    "df[\"MPG_mean\"].describe()"
   ]
  },
  {
   "cell_type": "code",
   "execution_count": 37,
   "id": "3c0bd34a-8b88-4a16-b1f9-2a0f135f2f4f",
   "metadata": {},
   "outputs": [
    {
     "data": {
      "image/png": "[encoded data removed]",
      "text/plain": [
       "<Figure size 800x600 with 1 Axes>"
      ]
     },
     "metadata": {},
     "output_type": "display_data"
    }
   ],
   "source": [
    "# Crear el gráfico de caja y bigotes\n",
    "plt.figure(figsize=(8, 6))\n",
    "plt.boxplot(df['MPG_mean'], vert=False)\n",
    "\n",
    "# Añadir título y etiqueta al eje x\n",
    "plt.title('Gráfico de Caja y Bigotes para MPG_mean')\n",
    "plt.xlabel('MPG_mean')\n",
    "\n",
    "# Mostrar el gráfico\n",
    "plt.show()"
   ]
  },
  {
   "cell_type": "markdown",
   "id": "cc614ba2-e83c-4e16-9cce-13f9a2cbce1b",
   "metadata": {},
   "source": [
    "\"Describe\" nos muestra valores mínimos de 0 y un máximo de 127, mientras los percentiles 25, 50 y 75 rondan todos el rango de 20-30, además el gráfico de caja y bigotes nos muestra gran cantidad de outliers. Calcularemos entonces los rangos intercuartílicos y eliminaremos los outliers."
   ]
  },
  {
   "cell_type": "code",
   "execution_count": 38,
   "id": "c13ae4da-3fc9-4ddc-80d2-f15b785f7073",
   "metadata": {},
   "outputs": [
    {
     "data": {
      "image/png": "[encoded data removed]",
      "text/plain": [
       "<Figure size 800x600 with 1 Axes>"
      ]
     },
     "metadata": {},
     "output_type": "display_data"
    }
   ],
   "source": [
    "# Calcular el rango intercuartílico (IQR)\n",
    "Q1 = df['MPG_mean'].quantile(0.25)\n",
    "Q3 = df['MPG_mean'].quantile(0.75)\n",
    "IQR = Q3 - Q1\n",
    "\n",
    "# Definir los límites para los valores atípicos\n",
    "lower_bound = Q1 - 1.5 * IQR\n",
    "upper_bound = Q3 + 1.5 * IQR\n",
    "\n",
    "# Filtrar los valores atípicos\n",
    "df = df[(df['MPG_mean'] >= lower_bound) & (df['MPG_mean'] <= upper_bound)]\n",
    "\n",
    "# Crear el gráfico de caja y bigotes\n",
    "plt.figure(figsize=(8, 6))\n",
    "plt.boxplot(df['MPG_mean'], vert=False)\n",
    "\n",
    "# Añadir título y etiqueta al eje x\n",
    "plt.title('Gráfico de Caja y Bigotes para MPG_mean')\n",
    "plt.xlabel('MPG_mean')\n",
    "\n",
    "# Mostrar el gráfico\n",
    "plt.show()"
   ]
  },
  {
   "cell_type": "code",
   "execution_count": 39,
   "id": "bfeb6af1-a7d1-43ed-aefc-b47ba27bb439",
   "metadata": {},
   "outputs": [
    {
     "name": "stdout",
     "output_type": "stream",
     "text": [
      "------------------------ DESCRIBE -------------------------\n"
     ]
    },
    {
     "data": {
      "text/plain": [
       "count   133426.00\n",
       "mean        24.32\n",
       "std          4.44\n",
       "min         12.50\n",
       "25%         21.50\n",
       "50%         23.50\n",
       "75%         27.50\n",
       "max         36.50\n",
       "Name: MPG_mean, dtype: float64"
      ]
     },
     "execution_count": 39,
     "metadata": {},
     "output_type": "execute_result"
    }
   ],
   "source": [
    "print(\"------------------------ DESCRIBE -------------------------\")\n",
    "df[\"MPG_mean\"].describe()"
   ]
  },
  {
   "cell_type": "markdown",
   "id": "d17a4cce-1ca9-4ba7-a8c5-701588069e9e",
   "metadata": {},
   "source": [
    "Observamos una variable mucho mejor distribuída y sin outliers."
   ]
  },
  {
   "cell_type": "markdown",
   "id": "ce52be3a-4b65-4fd0-a5ac-267384a93683",
   "metadata": {},
   "source": [
    "### Seguimos creando Dummies"
   ]
  },
  {
   "cell_type": "markdown",
   "id": "41227237-08e8-4022-85a6-5fd3cbb70644",
   "metadata": {},
   "source": [
    "Seguiremos creando Dummies para aquellas columnas con variables categóricas, que sean relevantes para nuestro estudio y que no contengan demasiadas variables únicas (lo que generaría demasiadas columnas Dummy)."
   ]
  },
  {
   "cell_type": "code",
   "execution_count": 40,
   "id": "163ed396-39f8-40e3-9872-5e7180f01e0b",
   "metadata": {},
   "outputs": [
    {
     "name": "stdout",
     "output_type": "stream",
     "text": [
      "Recuento de valores únicos: Drivetrain\n",
      "4\n",
      "Recuento de valores únicos: Fuel type\n",
      "13\n",
      "Recuento de valores únicos: Transmission\n",
      "476\n",
      "Recuento de valores únicos: Engine\n",
      "1011\n",
      "Recuento de valores únicos: Accidents or damage\n",
      "2\n",
      "Recuento de valores únicos: 1-owner vehicle\n",
      "2\n",
      "Recuento de valores únicos: Personal use only\n",
      "2\n"
     ]
    }
   ],
   "source": [
    "# Contar los valores únicos en la columna \"columna\"\n",
    "value_counts1 = len(df['Drivetrain'].unique())\n",
    "value_counts2 = len(df['Fuel type'].unique())\n",
    "value_counts3 = len(df['Transmission'].unique())\n",
    "value_counts4 = len(df['Engine'].unique())\n",
    "value_counts5 = len(df['Accidents or damage'].unique())\n",
    "value_counts6 = len(df['1-owner vehicle'].unique())\n",
    "value_counts7 = len(df['Personal use only'].unique())\n",
    "\n",
    "print(\"Recuento de valores únicos: Drivetrain\")\n",
    "print(value_counts1)\n",
    "print(\"Recuento de valores únicos: Fuel type\")\n",
    "print(value_counts2)\n",
    "print(\"Recuento de valores únicos: Transmission\")\n",
    "print(value_counts3)\n",
    "print(\"Recuento de valores únicos: Engine\")\n",
    "print(value_counts4)\n",
    "print(\"Recuento de valores únicos: Accidents or damage\")\n",
    "print(value_counts5)\n",
    "print(\"Recuento de valores únicos: 1-owner vehicle\")\n",
    "print(value_counts6)\n",
    "print(\"Recuento de valores únicos: Personal use only\")\n",
    "print(value_counts7)"
   ]
  },
  {
   "cell_type": "markdown",
   "id": "0df50c72-0616-4246-a89a-7b787d9d3ab0",
   "metadata": {},
   "source": [
    "Se observa que tanto \"Transmission\" como \"Engine\" tiene una cantidad muy elevada de valores únicos por lo que sería muy complicado crear columnas Dummy a partir de ellas, afortunadamente son las menos relevantes para nuestro estudio, continuaremos creando las columnas Dummy para las otras columnas con menor número de valores únicos."
   ]
  },
  {
   "cell_type": "code",
   "execution_count": 41,
   "id": "ab232d21-7642-476f-9ce0-c0f55f19722e",
   "metadata": {},
   "outputs": [
    {
     "name": "stdout",
     "output_type": "stream",
     "text": [
      "------------------------ INFO -------------------------\n",
      "<class 'pandas.core.frame.DataFrame'>\n",
      "Index: 133426 entries, 60 to 175489\n",
      "Data columns (total 80 columns):\n",
      " #   Column                                                      Non-Null Count   Dtype  \n",
      "---  ------                                                      --------------   -----  \n",
      " 0   Name                                                        133426 non-null  object \n",
      " 1   Year                                                        133426 non-null  int64  \n",
      " 2   Brand                                                       133426 non-null  object \n",
      " 3   Model                                                       133426 non-null  object \n",
      " 4   Usado (tipo)                                                133426 non-null  object \n",
      " 5   Price                                                       133426 non-null  int64  \n",
      " 6   Exterior color                                              133426 non-null  object \n",
      " 7   Interior color                                              133426 non-null  object \n",
      " 8   MPG                                                         133426 non-null  object \n",
      " 9   Transmission                                                133426 non-null  object \n",
      " 10  Engine                                                      133426 non-null  object \n",
      " 11  Mileage                                                     133426 non-null  float64\n",
      " 12  Adaptive Cruise Control                                     133426 non-null  float64\n",
      " 13  Heated Seats                                                133426 non-null  float64\n",
      " 14  Cooled Seats                                                133426 non-null  float64\n",
      " 15  Keyless Start                                               133426 non-null  float64\n",
      " 16  Navigation System                                           133426 non-null  float64\n",
      " 17  Power Liftgate                                              133426 non-null  float64\n",
      " 18  Remote Start                                                133426 non-null  float64\n",
      " 19  Heated Steering Wheel                                       133426 non-null  float64\n",
      " 20  Apple CarPlay/Android Auto                                  133426 non-null  float64\n",
      " 21  USB Port                                                    133426 non-null  float64\n",
      " 22  Premium Sound System                                        133426 non-null  float64\n",
      " 23  Bluetooth                                                   133426 non-null  float64\n",
      " 24  HomeLink                                                    133426 non-null  float64\n",
      " 25  Rear Seat Entertainment                                     133426 non-null  float64\n",
      " 26  Memory Seat                                                 133426 non-null  float64\n",
      " 27  Third Row Seating                                           133426 non-null  float64\n",
      " 28  Leather Seats                                               133426 non-null  float64\n",
      " 29  Blind Spot Monitor                                          133426 non-null  float64\n",
      " 30  Rear Cross Traffic Alert                                    133426 non-null  float64\n",
      " 31  Backup Camera                                               133426 non-null  float64\n",
      " 32  Lane Departure Warning                                      133426 non-null  float64\n",
      " 33  Alloy Wheels                                                133426 non-null  float64\n",
      " 34  Sunroof/Moonroof                                            133426 non-null  float64\n",
      " 35  Tow Hitch                                                   133426 non-null  float64\n",
      " 36  Tow Hooks                                                   133426 non-null  float64\n",
      " 37  Color_Black                                                 133426 non-null  bool   \n",
      " 38  Color_White                                                 133426 non-null  bool   \n",
      " 39  Color_Gray                                                  133426 non-null  bool   \n",
      " 40  Color_Red                                                   133426 non-null  bool   \n",
      " 41  Color_Blue                                                  133426 non-null  bool   \n",
      " 42  Color_Brown                                                 133426 non-null  bool   \n",
      " 43  Color_Green                                                 133426 non-null  bool   \n",
      " 44  Color_Gold                                                  133426 non-null  bool   \n",
      " 45  Color_Orange                                                133426 non-null  bool   \n",
      " 46  Color_Yellow                                                133426 non-null  bool   \n",
      " 47  Color_Other                                                 133426 non-null  bool   \n",
      " 48  IntColor_Black                                              133426 non-null  bool   \n",
      " 49  IntColor_White                                              133426 non-null  bool   \n",
      " 50  IntColor_Gray                                               133426 non-null  bool   \n",
      " 51  IntColor_Brown                                              133426 non-null  bool   \n",
      " 52  IntColor_LightBrown                                         133426 non-null  bool   \n",
      " 53  IntColor_Red                                                133426 non-null  bool   \n",
      " 54  IntColor_Other                                              133426 non-null  bool   \n",
      " 55  Price_log                                                   133426 non-null  float64\n",
      " 56  MPG_mean                                                    133426 non-null  float64\n",
      " 57  Drivetrain_4Wd                                              133426 non-null  bool   \n",
      " 58  Drivetrain_Awd                                              133426 non-null  bool   \n",
      " 59  Drivetrain_Fwd                                              133426 non-null  bool   \n",
      " 60  Drivetrain_Rwd                                              133426 non-null  bool   \n",
      " 61  Fuel type_Compressed Natural Gas                            133426 non-null  bool   \n",
      " 62  Fuel type_Diesel                                            133426 non-null  bool   \n",
      " 63  Fuel type_E85 Flex                                          133426 non-null  bool   \n",
      " 64  Fuel type_Gas                                               133426 non-null  bool   \n",
      " 65  Fuel type_Gasolin                                           133426 non-null  bool   \n",
      " 66  Fuel type_Gasoline                                          133426 non-null  bool   \n",
      " 67  Fuel type_Gasoline/Mild Electric Hybrid                     133426 non-null  bool   \n",
      " 68  Fuel type_Hybrid                                            133426 non-null  bool   \n",
      " 69  Fuel type_Other                                             133426 non-null  bool   \n",
      " 70  Fuel type_Premium Unleaded                                  133426 non-null  bool   \n",
      " 71  Fuel type_Regular Unleaded                                  133426 non-null  bool   \n",
      " 72  Fuel type_Unspecified                                       133426 non-null  bool   \n",
      " 73  Fuel type_Xib                                               133426 non-null  bool   \n",
      " 74  Accidents or damage_At Least 1 Accident Or Damage Reported  133426 non-null  bool   \n",
      " 75  Accidents or damage_None Reported                           133426 non-null  bool   \n",
      " 76  1-owner vehicle_No                                          133426 non-null  bool   \n",
      " 77  1-owner vehicle_Yes                                         133426 non-null  bool   \n",
      " 78  Personal use only_No                                        133426 non-null  bool   \n",
      " 79  Personal use only_Yes                                       133426 non-null  bool   \n",
      "dtypes: bool(41), float64(28), int64(2), object(9)\n",
      "memory usage: 45.9+ MB\n",
      "None\n"
     ]
    }
   ],
   "source": [
    "# Crear variables dummy para las columnas especificadas\n",
    "dummy_columns = [\"Drivetrain\", \"Fuel type\", \"Accidents or damage\", \"1-owner vehicle\", \"Personal use only\"]\n",
    "df = pd.get_dummies(df, columns=dummy_columns)\n",
    "\n",
    "print(\"------------------------ INFO -------------------------\")\n",
    "print(df.info())"
   ]
  },
  {
   "cell_type": "markdown",
   "id": "c1fa5ef4-99f2-426d-9db5-cd49cd85b235",
   "metadata": {},
   "source": [
    "Con esto damos por finalizada la estructuración del dataset. La ingeniería de características parece haber terminado, pero puede que más adelante debamos arreglar algo más."
   ]
  },
  {
   "cell_type": "markdown",
   "id": "4ff03bab-9cbc-4745-82dc-cf15864e8ad4",
   "metadata": {},
   "source": [
    "## EDA (Exploratory Data Analysis - Análisis Exploratorio de Datos)"
   ]
  },
  {
   "cell_type": "code",
   "execution_count": null,
   "id": "2b26cce9-ee0b-46ed-9774-2234f2ee11e8",
   "metadata": {},
   "outputs": [],
   "source": [
    "Ahora que nuestro dataset se encuentra bien estructurado, se hizo tratamiento de NaN y se desarrolló ingeniería de características podemos tranquilam"
   ]
  }
 ],
 "metadata": {
  "kernelspec": {
   "display_name": "Python 3 (ipykernel)",
   "language": "python",
   "name": "python3"
  },
  "language_info": {
   "codemirror_mode": {
    "name": "ipython",
    "version": 3
   },
   "file_extension": ".py",
   "mimetype": "text/x-python",
   "name": "python",
   "nbconvert_exporter": "python",
   "pygments_lexer": "ipython3",
   "version": "3.11.5"
  }
 },
 "nbformat": 4,
 "nbformat_minor": 5
}
