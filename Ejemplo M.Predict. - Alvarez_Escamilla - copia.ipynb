{
 "cells": [
  {
   "cell_type": "code",
   "execution_count": 1,
   "id": "18d5fe40-07af-4a47-8d31-1c8eb5e5e909",
   "metadata": {},
   "outputs": [],
   "source": [
    "import pandas as pd\n",
    "import numpy as np\n",
    "import matplotlib as mpl\n",
    "import matplotlib.pyplot as plt\n",
    "import seaborn as sns\n",
    "# Importo libreria para trabajar con dates \n",
    "from datetime import timedelta\n",
    "# Libreria para estimar regresión\n",
    "import statsmodels.formula.api as sm\n",
    "# Libreria para normalizar\n",
    "from sklearn.preprocessing import StandardScaler\n",
    "import re\n",
    "\n",
    "# Libreria para estimar regresión\n",
    "import statsmodels.api as sm\n",
    "\n",
    "# Para forwad selection\n",
    "import sys\n",
    "import joblib\n",
    "sys.modules['sklearn.externals.joblib'] = joblib\n",
    "from mlxtend.feature_selection import SequentialFeatureSelector as SFS\n",
    "from sklearn.linear_model import LinearRegression\n",
    "\n",
    "from sklearn.model_selection import train_test_split\n",
    "from sklearn.linear_model import LinearRegression\n",
    "from sklearn.metrics import mean_absolute_error\n",
    "from sklearn.metrics import mean_squared_error\n",
    "from sklearn.metrics import r2_score"
   ]
  },
  {
   "cell_type": "code",
   "execution_count": 2,
   "id": "9f121a5a-45a8-453a-b43d-7b0ecebf7fbf",
   "metadata": {},
   "outputs": [],
   "source": [
    "# Primero levantamos nuestro dataset desde github\n",
    "url = \"https://raw.githubusercontent.com/JnAlvarez/Coder-DS/main/New_York_cars.csv\"\n",
    "df = pd.read_csv(url)"
   ]
  },
  {
   "cell_type": "markdown",
   "id": "1988239c-9e08-4b7c-b4b6-43e19e83f63a",
   "metadata": {},
   "source": [
    "## Abstract/ Problema comercial"
   ]
  },
  {
   "cell_type": "markdown",
   "id": "90336923-ab2e-4f1d-aa77-93d17be39cf9",
   "metadata": {},
   "source": [
    "<div style='text-align: justify;'>\n",
    "\n",
    "    Este proyecto de Data Science se enfoca en la creación de un modelo de predicción de precios para automóviles nuevos y usados a partir de una base de datos exhaustiva que abarca una amplia gama de características y detalles históricos de precios. El objetivo principal es desarrollar un modelo predictivo robusto y preciso que permita a compradores y vendedores estimar el valor justo de un automóvil en función de sus especificaciones.\n",
    "\n",
    "    La base de datos contiene información detallada, como si el automóvil es nuevo o usado, el tipo de motor, la carrocería, el rendimiento, las opciones de entretenimiento, los extras y otros atributos relevantes. A través de técnicas avanzadas de análisis de datos y aprendizaje automático, se explorarán patrones, relaciones y correlaciones en los datos para construir un modelo predictivo que sea capaz de proporcionar estimaciones precisas de los precios de los automóviles.\n",
    "\n",
    "    El proceso de desarrollo del modelo se divide en varias etapas, que incluyen la limpieza y preprocesamiento de datos, la selección de características relevantes, la elección de algoritmos de aprendizaje automático adecuados y la evaluación de su rendimiento. Además, se implementarán medidas de evaluación de calidad, como el error cuadrático medio y el coeficiente de determinación (R²), para garantizar la fiabilidad del modelo.\n",
    "\n",
    "    Los resultados de este proyecto no solo serán útiles para los compradores y vendedores de automóviles, sino que también tendrán aplicaciones potenciales en la toma de decisiones estratégicas para la industria automotriz. Además, contribuirá al avance del campo de Data Science al abordar un problema práctico y complejo, demostrando la utilidad de las técnicas analíticas y predictivas en la valoración de activos.\n",
    "\n",
    "    En última instancia, este proyecto busca mejorar la transparencia y la equidad en el mercado de automóviles al proporcionar una herramienta precisa y objetiva para la determinación de precios, lo que beneficia tanto a compradores como a vendedores en sus decisiones de compra y venta.\n",
    "\n",
    "</div>"
   ]
  },
  {
   "cell_type": "markdown",
   "id": "477a2156-4812-4e4c-aa83-48f834a5bb35",
   "metadata": {},
   "source": [
    "## Hipótesis"
   ]
  },
  {
   "cell_type": "markdown",
   "id": "5cd5953c-0755-4c36-ab5a-43c67fc3d1d8",
   "metadata": {},
   "source": [
    "Junto con estructurar un modelo que nos permita predecir correctamente el valor de automóviles de acuerdo a sus características, intentaremos además responder ciertas preguntas que nos permitan entender de mejor manera el modelo.\n",
    "\n",
    "**Hipótesis Primaria:**\n",
    "Los vehículos nuevos tienen un precio promedio significativamente más alto que los vehículos usados en la base de datos.\n",
    "\n",
    "**Hipótesis Secundaria 1:**\n",
    "El tipo de combustible afecta de manera significativa el precio de los vehículos.\n",
    "\n",
    "**Hipótesis Secundaria 2:**\n",
    "El tipo de transmisión influye en el precio siendo el 4x4 el más caro.\n",
    "\n",
    "**Hipótesis Secundaria 3:**\n",
    "La eficiencia de combustible (medida en millas por galón, mpg) está positivamente correlacionada con el precio de los vehículos, lo que significa que los vehículos más eficientes en combustible tienden a tener un precio promedio más alto en el mercado."
   ]
  },
  {
   "cell_type": "markdown",
   "id": "e1a4b252-e374-42bf-a8d3-e340aea9f88c",
   "metadata": {},
   "source": [
    "## Explorando el dataset"
   ]
  },
  {
   "cell_type": "code",
   "execution_count": 3,
   "id": "a242bc87-feef-4c0f-9f87-a9e63e1ac60b",
   "metadata": {},
   "outputs": [
    {
     "name": "stdout",
     "output_type": "stream",
     "text": [
      "------------------------ SHAPE ------------------------\n",
      "(175490, 24)\n",
      "------------------------ HEAD -------------------------\n",
      "  new&used                                  name  money  \\\n",
      "0      New               2023 Acura Integra Base  33095   \n",
      "1      New                 2023 Acura Mdx A-Spec  61745   \n",
      "2      New  2023 Acura Integra A-Spec Technology  38095   \n",
      "3      New                 2023 Acura Tlx A-Spec  47995   \n",
      "4      New                 2023 Acura Tlx A-Spec  47995   \n",
      "\n",
      "             Exterior color Interior color Drivetrain     MPG Fuel type  \\\n",
      "0   Liquid Carbon Metallic          Ebony         Fwd   30–37  Gasoline   \n",
      "1     Majestic Black Pearl          Ebony         Awd   19–25  Gasoline   \n",
      "2     Majestic Black Pearl          Ebony         Fwd   26–36  Gasoline   \n",
      "3     Majestic Black Pearl          Ebony         Fwd   22–30  Gasoline   \n",
      "4     Platinum White Pearl            Red         Fwd   22–30  Gasoline   \n",
      "\n",
      "         Transmission                      Engine  ...  \\\n",
      "0       Automatic Cvt  1.5L I4 16V Gdi Dohc Turbo  ...   \n",
      "1  10-Speed Automatic        3.5L V6 24V Gdi Sohc  ...   \n",
      "2      6-Speed Manual  1.5L I4 16V Gdi Dohc Turbo  ...   \n",
      "3  10-Speed Automatic  2.0L I4 16V Gdi Dohc Turbo  ...   \n",
      "4  10-Speed Automatic  2.0L I4 16V Gdi Dohc Turbo  ...   \n",
      "\n",
      "                                              Safety  \\\n",
      "0    Automatic Emergency BrakingBackup CameraBrak...   \n",
      "1    Backup CameraBrake AssistLane Departure Warn...   \n",
      "2    Backup CameraBrake AssistLane Departure Warn...   \n",
      "3    Backup CameraBrake AssistLane Departure Warn...   \n",
      "4    Backup CameraBrake AssistLane Departure Warn...   \n",
      "\n",
      "                                         Seating Accidents or damage  \\\n",
      "0                                Leather Seats                   NaN   \n",
      "1    Leather SeatsMemory SeatThird Row Seating                   NaN   \n",
      "2                     Leather SeatsMemory Seat                   NaN   \n",
      "3                     Leather SeatsMemory Seat                   NaN   \n",
      "4                     Leather SeatsMemory Seat                   NaN   \n",
      "\n",
      "  Clean title 1-owner vehicle Personal use only  brand  Year  \\\n",
      "0         NaN             NaN               NaN  Acura  2023   \n",
      "1         NaN             NaN               NaN  Acura  2023   \n",
      "2         NaN             NaN               NaN  Acura  2023   \n",
      "3         NaN             NaN               NaN  Acura  2023   \n",
      "4         NaN             NaN               NaN  Acura  2023   \n",
      "\n",
      "                       Model currency  \n",
      "0               Integra Base        $  \n",
      "1                 Mdx A-Spec        $  \n",
      "2  Integra A-Spec Technology        $  \n",
      "3                 Tlx A-Spec        $  \n",
      "4                 Tlx A-Spec        $  \n",
      "\n",
      "[5 rows x 24 columns]\n",
      "------------------------ INFO -------------------------\n",
      "<class 'pandas.core.frame.DataFrame'>\n",
      "RangeIndex: 175490 entries, 0 to 175489\n",
      "Data columns (total 24 columns):\n",
      " #   Column               Non-Null Count   Dtype  \n",
      "---  ------               --------------   -----  \n",
      " 0   new&used             175490 non-null  object \n",
      " 1   name                 175490 non-null  object \n",
      " 2   money                175490 non-null  int64  \n",
      " 3   Exterior color       173598 non-null  object \n",
      " 4   Interior color       160594 non-null  object \n",
      " 5   Drivetrain           174934 non-null  object \n",
      " 6   MPG                  143406 non-null  object \n",
      " 7   Fuel type            174147 non-null  object \n",
      " 8   Transmission         174726 non-null  object \n",
      " 9   Engine               175158 non-null  object \n",
      " 10  Mileage              175443 non-null  float64\n",
      " 11  Convenience          145557 non-null  object \n",
      " 12  Entertainment        166583 non-null  object \n",
      " 13  Exterior             158582 non-null  object \n",
      " 14  Safety               173548 non-null  object \n",
      " 15  Seating              117836 non-null  object \n",
      " 16  Accidents or damage  122916 non-null  object \n",
      " 17  Clean title          18150 non-null   object \n",
      " 18  1-owner vehicle      122691 non-null  object \n",
      " 19  Personal use only    122915 non-null  object \n",
      " 20  brand                175490 non-null  object \n",
      " 21  Year                 175490 non-null  int64  \n",
      " 22  Model                175490 non-null  object \n",
      " 23  currency             175490 non-null  object \n",
      "dtypes: float64(1), int64(2), object(21)\n",
      "memory usage: 32.1+ MB\n",
      "None\n",
      "------------------------ NULL -------------------------\n",
      "new&used                    0\n",
      "name                        0\n",
      "money                       0\n",
      "Exterior color           1892\n",
      "Interior color          14896\n",
      "Drivetrain                556\n",
      "MPG                     32084\n",
      "Fuel type                1343\n",
      "Transmission              764\n",
      "Engine                    332\n",
      "Mileage                    47\n",
      "Convenience             29933\n",
      "Entertainment            8907\n",
      "Exterior                16908\n",
      "Safety                   1942\n",
      "Seating                 57654\n",
      "Accidents or damage     52574\n",
      "Clean title            157340\n",
      "1-owner vehicle         52799\n",
      "Personal use only       52575\n",
      "brand                       0\n",
      "Year                        0\n",
      "Model                       0\n",
      "currency                    0\n",
      "dtype: int64\n"
     ]
    }
   ],
   "source": [
    "# Exploramos someramente nuestro dataset para hacernos una idea de los datos aquí contenidos.\n",
    "print(\"------------------------ SHAPE ------------------------\")\n",
    "print(df.shape)\n",
    "print(\"------------------------ HEAD -------------------------\")\n",
    "print(df.head())\n",
    "print(\"------------------------ INFO -------------------------\")\n",
    "print(df.info())\n",
    "print(\"------------------------ NULL -------------------------\")\n",
    "print(df.isnull().sum())"
   ]
  },
  {
   "cell_type": "markdown",
   "id": "03b69e0c-0fdc-4a90-8343-4d12c5daf2a7",
   "metadata": {},
   "source": [
    "## Estructurando el dataset"
   ]
  },
  {
   "cell_type": "markdown",
   "id": "afa6cd12-0ec8-468e-b21b-d36b14524cf8",
   "metadata": {},
   "source": [
    "<div style='text-align: justify;'>\r",
    "    \n",
    "    Hemos podido observar que las columnas: 'Convenience', 'Entertainment', 'Seating', 'Safety' y 'Exterior', poseen información alfanumérica pobremente ordenada, sin separadores. Lo que haremos para poder obtener información con la que podamos trabajar de mejor manera será añadir nuevas columnas con el nombre de cada característica contenida en las columnas mencionadas al principio, y llenarlas con un 1 si el string aparece en la columna correspondiente y con un 0 en cualquier otro caso.\r\n",
    "</div>"
   ]
  },
  {
   "cell_type": "code",
   "execution_count": 4,
   "id": "5392f3c8-c7f5-4978-95ae-727c2d80fcb4",
   "metadata": {},
   "outputs": [],
   "source": [
    "# Agregar las columnas\n",
    "df['Adaptive Cruise Control'] = 0\n",
    "df['Heated Seats'] = 0\n",
    "df['Cooled Seats'] = 0\n",
    "df['Keyless Start'] = 0\n",
    "df['Navigation System'] = 0\n",
    "df['Power Liftgate'] = 0\n",
    "df['Remote Start'] = 0\n",
    "df['Heated Steering Wheel'] = 0\n",
    "\n",
    "# Nombres a buscar\n",
    "nombres_a_buscar = ['Adaptive Cruise Control', 'Heated Seats', 'Cooled Seats', 'Keyless Start', 'Navigation System', 'Power Liftgate', 'Remote Start', 'Heated Steering Wheel']\n",
    "\n",
    "# Iterar a través de las filas\n",
    "for index, row in df.iterrows():\n",
    "    convenience_value = row['Convenience']\n",
    "    if isinstance(convenience_value, str):\n",
    "        for nombre in nombres_a_buscar:\n",
    "            if nombre in convenience_value:\n",
    "                df.loc[index, nombre] = 1\n",
    "\n",
    "# Elimino la columna de origen ya procesada\n",
    "df = df.drop(columns=['Convenience'])"
   ]
  },
  {
   "cell_type": "code",
   "execution_count": 5,
   "id": "d41accc3-587e-4d9f-ae97-73c849e7399b",
   "metadata": {},
   "outputs": [],
   "source": [
    "# Agregar las columnas\n",
    "df['Apple CarPlay/Android Auto'] = 0\n",
    "df['USB Port'] = 0\n",
    "df['Premium Sound System'] = 0\n",
    "df['Bluetooth'] = 0\n",
    "df['HomeLink'] = 0\n",
    "df['Rear Seat Entertainment'] = 0\n",
    "\n",
    "# Nombres a buscar\n",
    "nombres_a_buscar = ['Apple CarPlay/Android Auto', 'USB Port', 'Premium Sound System', 'Bluetooth', 'HomeLink', 'Rear Seat Entertainment']\n",
    "\n",
    "# Iterar a través de las filas\n",
    "for index, row in df.iterrows():\n",
    "    entertainment_value = row['Entertainment']\n",
    "    if isinstance(entertainment_value, str):\n",
    "        for nombre in nombres_a_buscar:\n",
    "            if nombre in entertainment_value:\n",
    "                df.loc[index, nombre] = 1\n",
    "\n",
    "# Elimino la columna de origen ya procesada\n",
    "df = df.drop(columns=['Entertainment'])"
   ]
  },
  {
   "cell_type": "code",
   "execution_count": 6,
   "id": "a24fa88b-ea07-4dfe-9a83-9bb563b6a7b3",
   "metadata": {},
   "outputs": [],
   "source": [
    "# Agregar las columnas\n",
    "df['Memory Seat'] = 0\n",
    "df['Third Row Seating'] = 0\n",
    "df['Leather Seats'] = 0\n",
    "\n",
    "# Nombres a buscar\n",
    "nombres_a_buscar = ['Memory Seat', 'Third Row Seating', 'Leather Seats']\n",
    "\n",
    "# Iterar a través de las filas\n",
    "for index, row in df.iterrows():\n",
    "    row_str = str(row['Seating'])  # Convertir a cadena\n",
    "    for nombre in nombres_a_buscar:\n",
    "        if nombre in row_str:\n",
    "            df.loc[index, nombre] = 1\n",
    "\n",
    "# Elimino la columna de origen ya procesada\n",
    "df = df.drop(columns=['Seating'])"
   ]
  },
  {
   "cell_type": "code",
   "execution_count": 7,
   "id": "a5c5f92c-4b9b-40a7-97e1-645635c2392a",
   "metadata": {},
   "outputs": [],
   "source": [
    "# Agregar las columnas\n",
    "df['Blind Spot Monitor'] = 0\n",
    "df['Rear Cross Traffic Alert'] = 0\n",
    "df['Backup Camera'] = 0\n",
    "df['Lane Departure Warning'] = 0\n",
    "\n",
    "# Nombres a buscar\n",
    "nombres_a_buscar = ['Blind Spot Monitor', 'Rear Cross Traffic Alert', 'Backup Camera', 'Lane Departure Warning']\n",
    "\n",
    "# Iterar a través de las filas\n",
    "for index, row in df.iterrows():\n",
    "    safety_value = row['Safety']\n",
    "    if isinstance(safety_value, str):\n",
    "        for nombre in nombres_a_buscar:\n",
    "            if nombre in safety_value:\n",
    "                df.loc[index, nombre] = 1\n",
    "\n",
    "# Elimino la columna de origen ya procesada\n",
    "df = df.drop(columns=['Safety'])"
   ]
  },
  {
   "cell_type": "code",
   "execution_count": 8,
   "id": "963a5cf4-6943-4d09-ab17-6e3cd209be93",
   "metadata": {},
   "outputs": [],
   "source": [
    "# Agregar las columnas\n",
    "df['Alloy Wheels'] = 0\n",
    "df['Sunroof/Moonroof'] = 0\n",
    "df['Tow Hitch'] = 0\n",
    "df['Tow Hooks'] = 0\n",
    "\n",
    "# Nombres a buscar\n",
    "nombres_a_buscar = ['Alloy Wheels', 'Sunroof/Moonroof', 'Tow Hitch', 'Tow Hooks']\n",
    "\n",
    "# Iterar a través de las filas\n",
    "for index, row in df.iterrows():\n",
    "    exterior_value = row['Exterior']\n",
    "    if isinstance(exterior_value, str):\n",
    "        for nombre in nombres_a_buscar:\n",
    "            if nombre in exterior_value:\n",
    "                df.loc[index, nombre] = 1\n",
    "\n",
    "# Elimino la columna de origen ya procesada\n",
    "df = df.drop(columns=['Exterior'])"
   ]
  },
  {
   "cell_type": "code",
   "execution_count": 9,
   "id": "aea570f6-6b69-4948-97c1-3b483c892e71",
   "metadata": {},
   "outputs": [
    {
     "name": "stdout",
     "output_type": "stream",
     "text": [
      "------------------------ INFO -------------------------\n",
      "<class 'pandas.core.frame.DataFrame'>\n",
      "RangeIndex: 175490 entries, 0 to 175489\n",
      "Data columns (total 44 columns):\n",
      " #   Column                      Non-Null Count   Dtype  \n",
      "---  ------                      --------------   -----  \n",
      " 0   new&used                    175490 non-null  object \n",
      " 1   name                        175490 non-null  object \n",
      " 2   money                       175490 non-null  int64  \n",
      " 3   Exterior color              173598 non-null  object \n",
      " 4   Interior color              160594 non-null  object \n",
      " 5   Drivetrain                  174934 non-null  object \n",
      " 6   MPG                         143406 non-null  object \n",
      " 7   Fuel type                   174147 non-null  object \n",
      " 8   Transmission                174726 non-null  object \n",
      " 9   Engine                      175158 non-null  object \n",
      " 10  Mileage                     175443 non-null  float64\n",
      " 11  Accidents or damage         122916 non-null  object \n",
      " 12  Clean title                 18150 non-null   object \n",
      " 13  1-owner vehicle             122691 non-null  object \n",
      " 14  Personal use only           122915 non-null  object \n",
      " 15  brand                       175490 non-null  object \n",
      " 16  Year                        175490 non-null  int64  \n",
      " 17  Model                       175490 non-null  object \n",
      " 18  currency                    175490 non-null  object \n",
      " 19  Adaptive Cruise Control     175490 non-null  int64  \n",
      " 20  Heated Seats                175490 non-null  int64  \n",
      " 21  Cooled Seats                175490 non-null  int64  \n",
      " 22  Keyless Start               175490 non-null  int64  \n",
      " 23  Navigation System           175490 non-null  int64  \n",
      " 24  Power Liftgate              175490 non-null  int64  \n",
      " 25  Remote Start                175490 non-null  int64  \n",
      " 26  Heated Steering Wheel       175490 non-null  int64  \n",
      " 27  Apple CarPlay/Android Auto  175490 non-null  int64  \n",
      " 28  USB Port                    175490 non-null  int64  \n",
      " 29  Premium Sound System        175490 non-null  int64  \n",
      " 30  Bluetooth                   175490 non-null  int64  \n",
      " 31  HomeLink                    175490 non-null  int64  \n",
      " 32  Rear Seat Entertainment     175490 non-null  int64  \n",
      " 33  Memory Seat                 175490 non-null  int64  \n",
      " 34  Third Row Seating           175490 non-null  int64  \n",
      " 35  Leather Seats               175490 non-null  int64  \n",
      " 36  Blind Spot Monitor          175490 non-null  int64  \n",
      " 37  Rear Cross Traffic Alert    175490 non-null  int64  \n",
      " 38  Backup Camera               175490 non-null  int64  \n",
      " 39  Lane Departure Warning      175490 non-null  int64  \n",
      " 40  Alloy Wheels                175490 non-null  int64  \n",
      " 41  Sunroof/Moonroof            175490 non-null  int64  \n",
      " 42  Tow Hitch                   175490 non-null  int64  \n",
      " 43  Tow Hooks                   175490 non-null  int64  \n",
      "dtypes: float64(1), int64(27), object(16)\n",
      "memory usage: 58.9+ MB\n",
      "None\n"
     ]
    }
   ],
   "source": [
    "# Printeamos un Info para ver la nueva estructura\n",
    "print(\"------------------------ INFO -------------------------\")\n",
    "print(df.info())"
   ]
  },
  {
   "cell_type": "markdown",
   "id": "81be229a-9d5a-455f-8bdd-b8acee55a2a2",
   "metadata": {},
   "source": [
    "Ahora vamos a transformar la columna new&used para dejarla como una columna numérica que indique un 1 para los autos nuevos y un cero para todo lo demás."
   ]
  },
  {
   "cell_type": "code",
   "execution_count": 10,
   "id": "d914195d-311f-47ce-b89d-ff62f39f1c04",
   "metadata": {},
   "outputs": [
    {
     "name": "stdout",
     "output_type": "stream",
     "text": [
      "------------------------ V.COUNT -------------------------\n",
      "new&used\n",
      "Used                       135972\n",
      "New                         29280\n",
      "Mercedes-Benz Certified       778\n",
      "Infiniti Certified            705\n",
      "Porsche Certified             659\n",
      "Toyota Certified              629\n",
      "Volvo Certified               617\n",
      "Honda Certified               615\n",
      "Cadillac Certified            608\n",
      "Bmw Certified                 580\n",
      "Nissan Certified              501\n",
      "Buick Certified               498\n",
      "Volkswagen Certified          496\n",
      "Subaru Certified              445\n",
      "Jeep Certified                427\n",
      "Acura Certified               416\n",
      "Gmc Certified                 375\n",
      "Kia Certified                 358\n",
      "Ford Certified                354\n",
      "Dodge Certified               323\n",
      "Chevrolet Certified           316\n",
      "Chrysler Certified            298\n",
      "Ram Certified                 236\n",
      "Mitsubishi Certified            4\n",
      "Name: count, dtype: int64\n"
     ]
    }
   ],
   "source": [
    "conteo_valores = df['new&used'].value_counts()\n",
    "print(\"------------------------ V.COUNT -------------------------\")\n",
    "print(conteo_valores)"
   ]
  },
  {
   "cell_type": "markdown",
   "id": "80deb071-2639-40ff-9f6a-104252544651",
   "metadata": {},
   "source": [
    "Convertiremos esta columna a valores binarios teniendo en cuenta que los vehículos certificados son vehículos usados."
   ]
  },
  {
   "cell_type": "code",
   "execution_count": 11,
   "id": "54a6ba4f-b141-4d96-9e9c-97df5775c47e",
   "metadata": {},
   "outputs": [],
   "source": [
    "# Función para asignar 1 a 'New' cuando 'new&used' es 'new' y 0 en otros casos\n",
    "def asignar_new(row):\n",
    "    if row['new&used'] == 'New':\n",
    "        return 1\n",
    "    else:\n",
    "        return 0\n",
    "\n",
    "# Crear la nueva columna 'New' utilizando apply\n",
    "df['New'] = df.apply(asignar_new, axis=1)\n",
    "\n",
    "# Elimino la columna de origen ya procesada\n",
    "df = df.drop(columns=['new&used'])"
   ]
  },
  {
   "cell_type": "markdown",
   "id": "efab266e-eef1-4347-be78-e3f965e9c69c",
   "metadata": {},
   "source": [
    "Revisaremos si el código se ejecutó correctamente:"
   ]
  },
  {
   "cell_type": "code",
   "execution_count": 12,
   "id": "916ea18f-824d-4361-b064-0037b2bc3106",
   "metadata": {},
   "outputs": [
    {
     "name": "stdout",
     "output_type": "stream",
     "text": [
      "----------------------- V.COUNT -----------------------\n",
      "New\n",
      "0    146210\n",
      "1     29280\n",
      "Name: count, dtype: int64\n",
      "------------------------ NULL -------------------------\n",
      "0\n"
     ]
    }
   ],
   "source": [
    "# Revisamos si el código se ejecutó \n",
    "conteo_valores = df['New'].value_counts()\n",
    "print(\"----------------------- V.COUNT -----------------------\")\n",
    "print(conteo_valores)\n",
    "print(\"------------------------ NULL -------------------------\")\n",
    "print(df[\"New\"].isnull().sum())"
   ]
  },
  {
   "cell_type": "markdown",
   "id": "6db75989-b7c6-44f6-8e9a-74ef4d20ab35",
   "metadata": {},
   "source": [
    "Ahora revisaremos la columna 'Personal use only' con la intención de convertirla en una columna numérica."
   ]
  },
  {
   "cell_type": "code",
   "execution_count": 13,
   "id": "d5260cbf-632c-40f8-842b-b90add1685cf",
   "metadata": {},
   "outputs": [
    {
     "name": "stdout",
     "output_type": "stream",
     "text": [
      "----------------------- V.COUNT -----------------------\n",
      "Personal use only\n",
      "Yes    83546\n",
      "No     39369\n",
      "Name: count, dtype: int64\n",
      "------------------------ NULL -------------------------\n",
      "52575\n"
     ]
    }
   ],
   "source": [
    "conteo_valores = df['Personal use only'].value_counts()\n",
    "print(\"----------------------- V.COUNT -----------------------\")\n",
    "print(conteo_valores)\n",
    "print(\"------------------------ NULL -------------------------\")\n",
    "print(df[\"Personal use only\"].isnull().sum())"
   ]
  },
  {
   "cell_type": "markdown",
   "id": "7297c437-d578-405f-97a6-47434679e8d4",
   "metadata": {},
   "source": [
    "Podemos observar que tenemos muchos datos NaN, y que la moda es Yes, crearemos una columna en donde asignaremos un 1 a Yes, 0 a No y los datos NaN los reemplazaremos con la Moda (en este caso \"Yes\")."
   ]
  },
  {
   "cell_type": "code",
   "execution_count": 14,
   "id": "eef59dab-20cc-4557-8916-c88917b75032",
   "metadata": {},
   "outputs": [],
   "source": [
    "# Función para asignar valores a 'Personal Use Only'\n",
    "def asignar_personal_use_only(row):\n",
    "    if row['Personal use only'] == 'No':\n",
    "        return 0\n",
    "    else:\n",
    "        return 1\n",
    "\n",
    "# Crear la nueva columna 'Personal Use Only' utilizando apply\n",
    "df['Personal Use Only'] = df.apply(asignar_personal_use_only, axis=1)\n",
    "\n",
    "# Elimino la columna de origen ya procesada\n",
    "df = df.drop(columns=['Personal use only'])"
   ]
  },
  {
   "cell_type": "markdown",
   "id": "1445116b-c4f9-43a0-b191-369666a47917",
   "metadata": {},
   "source": [
    "Revisaremos si el código se ejecutó correctamente:"
   ]
  },
  {
   "cell_type": "code",
   "execution_count": 15,
   "id": "3e00aa7e-00ae-47d0-a7d1-5292bd92c10e",
   "metadata": {},
   "outputs": [
    {
     "name": "stdout",
     "output_type": "stream",
     "text": [
      "----------------------- V.COUNT -----------------------\n",
      "Personal Use Only\n",
      "1    136121\n",
      "0     39369\n",
      "Name: count, dtype: int64\n",
      "------------------------ NULL -------------------------\n",
      "0\n"
     ]
    }
   ],
   "source": [
    "conteo_valores = df['Personal Use Only'].value_counts()\n",
    "print(\"----------------------- V.COUNT -----------------------\")\n",
    "print(conteo_valores)\n",
    "print(\"------------------------ NULL -------------------------\")\n",
    "print(df[\"Personal Use Only\"].isnull().sum())"
   ]
  },
  {
   "cell_type": "markdown",
   "id": "aacd4e96-d30e-4dbb-a3aa-b12b94e34fb6",
   "metadata": {},
   "source": [
    "Seguimos con la columna Accidents or damage"
   ]
  },
  {
   "cell_type": "code",
   "execution_count": 16,
   "id": "82ecef2c-c9f9-44d4-b42a-4e0eb2babd83",
   "metadata": {},
   "outputs": [
    {
     "name": "stdout",
     "output_type": "stream",
     "text": [
      "----------------------- V.COUNT -----------------------\n",
      "Accidents or damage\n",
      "None Reported                             90229\n",
      "At Least 1 Accident Or Damage Reported    32687\n",
      "Name: count, dtype: int64\n",
      "------------------------ NULL -------------------------\n",
      "52574\n"
     ]
    }
   ],
   "source": [
    "conteo_valores = df['Accidents or damage'].value_counts()\n",
    "print(\"----------------------- V.COUNT -----------------------\")\n",
    "print(conteo_valores)\n",
    "print(\"------------------------ NULL -------------------------\")\n",
    "print(df[\"Accidents or damage\"].isnull().sum())"
   ]
  },
  {
   "cell_type": "markdown",
   "id": "9e846319-dab1-418c-9fa9-bff2b60d47ca",
   "metadata": {},
   "source": [
    "Podemos observar nuevamente un comportamiento similar, existiendo datos NaN, y siendo None Reported la Moda esta vez, crearemos entonces una columna nueva donde marcaremos con un \"1\" \"At Least 1 Accident Or Damage Reported\" y con un \"0\" None Reported, y por último los datos NaN serán reemplazados por la moda."
   ]
  },
  {
   "cell_type": "code",
   "execution_count": 17,
   "id": "77c3b97a-a644-46e4-94e8-a1bff05eca30",
   "metadata": {},
   "outputs": [],
   "source": [
    "# Función para asignar valores a 'Accidents or Damage'\n",
    "def asignar_accidents_or_damage(row):\n",
    "    if row['Accidents or damage'] == 'At Least 1 Accident Or Damage Reported':\n",
    "        return 1\n",
    "    else:\n",
    "        return 0\n",
    "\n",
    "# Crear la nueva columna 'Accidents or Damage' utilizando apply\n",
    "df['Accidents or Damage'] = df.apply(asignar_accidents_or_damage, axis=1)\n",
    "\n",
    "# Elimino la columna de origen ya procesada\n",
    "df = df.drop(columns=['Accidents or damage'])"
   ]
  },
  {
   "cell_type": "markdown",
   "id": "8a9ded9e-366c-45a2-9df8-701805cbe14a",
   "metadata": {},
   "source": [
    "Revisaremos si el código se ejecutó correctamente:"
   ]
  },
  {
   "cell_type": "code",
   "execution_count": 18,
   "id": "df47de2e-fd2d-42f9-975e-dc911068a2cb",
   "metadata": {},
   "outputs": [
    {
     "name": "stdout",
     "output_type": "stream",
     "text": [
      "----------------------- V.COUNT -----------------------\n",
      "Accidents or Damage\n",
      "0    142803\n",
      "1     32687\n",
      "Name: count, dtype: int64\n",
      "------------------------ NULL -------------------------\n",
      "0\n"
     ]
    }
   ],
   "source": [
    "conteo_valores = df['Accidents or Damage'].value_counts()\n",
    "print(\"----------------------- V.COUNT -----------------------\")\n",
    "print(conteo_valores)\n",
    "print(\"------------------------ NULL -------------------------\")\n",
    "print(df[\"Accidents or Damage\"].isnull().sum())"
   ]
  },
  {
   "cell_type": "markdown",
   "id": "36fc8b08-73a9-4f35-a9e6-7fc1384df1af",
   "metadata": {},
   "source": [
    "Ahora haremos lo mismo para la columna '1-owner vehicle'"
   ]
  },
  {
   "cell_type": "code",
   "execution_count": 19,
   "id": "38703b2f-368b-49f9-9e7e-bb5ebd4dec76",
   "metadata": {},
   "outputs": [
    {
     "name": "stdout",
     "output_type": "stream",
     "text": [
      "----------------------- V.COUNT -----------------------\n",
      "1-owner vehicle\n",
      "Yes    61606\n",
      "No     61085\n",
      "Name: count, dtype: int64\n",
      "------------------------ NULL -------------------------\n",
      "52799\n"
     ]
    }
   ],
   "source": [
    "conteo_valores = df['1-owner vehicle'].value_counts()\n",
    "print(\"----------------------- V.COUNT -----------------------\")\n",
    "print(conteo_valores)\n",
    "print(\"------------------------ NULL -------------------------\")\n",
    "print(df[\"1-owner vehicle\"].isnull().sum())"
   ]
  },
  {
   "cell_type": "markdown",
   "id": "31d3bfa8-832f-4602-a8cd-dd1d6e4744b2",
   "metadata": {},
   "source": [
    "Observamos que la Moda es Yes, y que tenemos datos NaN por lo que seguiremos repitiendo el mismo proceso: 1 = Yes; 0 = No, y reemplazamos NaN por la Moda."
   ]
  },
  {
   "cell_type": "code",
   "execution_count": 20,
   "id": "6b7dc246-cd08-42ba-a786-b39c2708841f",
   "metadata": {},
   "outputs": [],
   "source": [
    "# Función para asignar valores a '1-owner Vehicle'\n",
    "def asignar_1_owner_vehicle(row):\n",
    "    if row['1-owner vehicle'] == 'No':\n",
    "        return 0\n",
    "    else:\n",
    "        return 1\n",
    "\n",
    "# Crear la nueva columna '1-owner Vehicle' utilizando apply\n",
    "df['1-owner Vehicle'] = df.apply(asignar_1_owner_vehicle, axis=1)\n",
    "\n",
    "# Elimino la columna de origen ya procesada\n",
    "df = df.drop(columns=['1-owner vehicle'])"
   ]
  },
  {
   "cell_type": "markdown",
   "id": "1b8659de-951c-4ccf-8a7f-22369c7147a6",
   "metadata": {},
   "source": [
    "Revisaremos si el código se ejecutó correctamente:"
   ]
  },
  {
   "cell_type": "code",
   "execution_count": 21,
   "id": "483ca7d4-7dda-49f3-ab39-0c49beff2c25",
   "metadata": {},
   "outputs": [
    {
     "name": "stdout",
     "output_type": "stream",
     "text": [
      "----------------------- V.COUNT -----------------------\n",
      "1-owner Vehicle\n",
      "1    114405\n",
      "0     61085\n",
      "Name: count, dtype: int64\n",
      "------------------------ NULL -------------------------\n",
      "0\n"
     ]
    }
   ],
   "source": [
    "conteo_valores = df['1-owner Vehicle'].value_counts()\n",
    "print(\"----------------------- V.COUNT -----------------------\")\n",
    "print(conteo_valores)\n",
    "print(\"------------------------ NULL -------------------------\")\n",
    "print(df[\"1-owner Vehicle\"].isnull().sum())"
   ]
  },
  {
   "cell_type": "markdown",
   "id": "80671459-2c12-454e-b7b0-42121e0441f5",
   "metadata": {},
   "source": [
    "Ahora debemos lidiar con la columna MPG que según nuestra primera exploración tenía datos tipo: object."
   ]
  },
  {
   "cell_type": "code",
   "execution_count": 22,
   "id": "f2d71956-109d-46e6-84ae-3765f6329ad1",
   "metadata": {},
   "outputs": [
    {
     "name": "stdout",
     "output_type": "stream",
     "text": [
      "----------------------- V.COUNT -----------------------\n",
      "MPG\n",
      " 19–26    4579\n",
      " 18–25    4108\n",
      " 17–25    3385\n",
      " 19–28    3097\n",
      " 16–23    2957\n",
      "          ... \n",
      " 26–40       1\n",
      " 0–40        1\n",
      " 40–81       1\n",
      " 14–16       1\n",
      " 41–41       1\n",
      "Name: count, Length: 537, dtype: int64\n",
      "------------------------ NULL -------------------------\n",
      "0\n"
     ]
    }
   ],
   "source": [
    "conteo_valores = df['MPG'].value_counts()\n",
    "print(\"----------------------- V.COUNT -----------------------\")\n",
    "print(conteo_valores)\n",
    "print(\"------------------------ NULL -------------------------\")\n",
    "print(df[\"1-owner Vehicle\"].isnull().sum())"
   ]
  },
  {
   "cell_type": "markdown",
   "id": "afbaf8e8-21cc-46b3-85c9-f40676c525be",
   "metadata": {},
   "source": [
    "Podemos observar que estos datos tipo \"object\" son rangos que corresponden a la cantidad de Millas por Galon que da el auto. Esta información así como se encuentra no es de valor inmediato por lo cual lo procesaremos, ejecutaremos un código que nos permitirá tomar los valores contenidos en estas celdas como valores numéricos y con ellos calcular el promedio, se creará además una nueva columna para contener estos datos, de esta manera tenemos un dato más utilizable al momento de predecir."
   ]
  },
  {
   "cell_type": "code",
   "execution_count": 23,
   "id": "fc554e3d-ead9-49e5-8158-3bb27dee0e12",
   "metadata": {},
   "outputs": [],
   "source": [
    "def promedio_rango(rango):\n",
    "    if isinstance(rango, str):\n",
    "        valores = [float(valor) if '.' in valor else int(valor) for valor in rango.replace('–', '-').split('-')]\n",
    "        return sum(valores) / len(valores)\n",
    "    else:\n",
    "        return rango  # Si el valor no es una cadena, simplemente lo retornamos\n",
    "\n",
    "# Aplicamos la función a la columna 'MPG' y creamos la nueva columna 'MpG'\n",
    "df['MpG'] = df['MPG'].apply(promedio_rango)"
   ]
  },
  {
   "cell_type": "markdown",
   "id": "9408df89-15f6-4054-84b1-f392ae73e441",
   "metadata": {},
   "source": [
    "Imprimiremos los Head de la columna original con los rangos, así como también la de la nueva columna con los promedios para asegurarnos de que el código se haya ejecutado correctamente."
   ]
  },
  {
   "cell_type": "code",
   "execution_count": 24,
   "id": "1501caec-0b32-4ad2-9f60-443e12fb9594",
   "metadata": {},
   "outputs": [
    {
     "name": "stdout",
     "output_type": "stream",
     "text": [
      "----------------------- HEAD (MPG) -----------------------\n",
      "0     30–37\n",
      "1     19–25\n",
      "2     26–36\n",
      "3     22–30\n",
      "4     22–30\n",
      "Name: MPG, dtype: object\n",
      "----------------------- HEAD (MpG) -----------------------\n",
      "0    33.5\n",
      "1    22.0\n",
      "2    31.0\n",
      "3    26.0\n",
      "4    26.0\n",
      "Name: MpG, dtype: float64\n"
     ]
    }
   ],
   "source": [
    "print(\"----------------------- HEAD (MPG) -----------------------\")\n",
    "print(df[\"MPG\"].head())\n",
    "print(\"----------------------- HEAD (MpG) -----------------------\")\n",
    "print(df[\"MpG\"].head())"
   ]
  },
  {
   "cell_type": "markdown",
   "id": "565b0bf4-5786-4143-8b09-8ed3897aeae3",
   "metadata": {},
   "source": [
    "Podemos observar que el código se ejecutó correctamente y los rangos fueron convertidos exitosamente en promedios."
   ]
  },
  {
   "cell_type": "markdown",
   "id": "d8968f08-7bc1-4a4a-9a34-4f83c883717c",
   "metadata": {},
   "source": [
    "Ahora haremos un conteo de valores de nuestra columna de promedios para asegurarnos de que no haya nada extraño."
   ]
  },
  {
   "cell_type": "code",
   "execution_count": 25,
   "id": "b81f92b3-b419-4e1c-bab7-2c6d503c103f",
   "metadata": {},
   "outputs": [
    {
     "name": "stdout",
     "output_type": "stream",
     "text": [
      "----------------------- V.COUNT -----------------------\n",
      "MpG\n",
      "23.5       7709\n",
      "22.5       7466\n",
      "21.5       7399\n",
      "24.5       6211\n",
      "21.0       5865\n",
      "           ... \n",
      "27950.0       1\n",
      "31525.0       1\n",
      "43370.0       1\n",
      "72.0          1\n",
      "56.0          1\n",
      "Name: count, Length: 115, dtype: int64\n",
      "------------------------ NULL -------------------------\n",
      "32084\n"
     ]
    }
   ],
   "source": [
    "conteo_valores = df['MpG'].value_counts()\n",
    "print(\"----------------------- V.COUNT -----------------------\")\n",
    "print(conteo_valores)\n",
    "print(\"------------------------ NULL -------------------------\")\n",
    "print(df[\"MpG\"].isnull().sum())"
   ]
  },
  {
   "cell_type": "markdown",
   "id": "692d85a4-d067-466f-84c9-0cb61947765e",
   "metadata": {},
   "source": [
    "Podemos observar que hay valores bastante extraños en comparación con los valores que más se repiten, por lo tanto visualizaremos esta columna en un gráfico de Caja y bigotes para hacernos una mejor idea de los outliers."
   ]
  },
  {
   "cell_type": "code",
   "execution_count": 26,
   "id": "5c98db28-7e5c-449a-89d4-307032062ed7",
   "metadata": {},
   "outputs": [
    {
     "data": {
      "image/png": "[encoded data removed]",
      "text/plain": [
       "<Figure size 640x480 with 1 Axes>"
      ]
     },
     "metadata": {},
     "output_type": "display_data"
    }
   ],
   "source": [
    "# Crea el boxplot de la columna 'MpG'\n",
    "sns.boxplot(x='MpG', data=df)\n",
    "\n",
    "# Configura el título y etiquetas de los ejes\n",
    "plt.title('Boxplot de la columna MpG')\n",
    "plt.xlabel('Valores de MpG')\n",
    "\n",
    "# Muestra el boxplot\n",
    "plt.show()"
   ]
  },
  {
   "cell_type": "markdown",
   "id": "1c1906ca-a5cf-4a9f-9f3a-94c729210b68",
   "metadata": {},
   "source": [
    "Podemos observar que la estructura de nuestro gráfico se ve bastante alterada a razón de los outliers, incluso haciendo casi imperceptible nuestra caja y bigotes, por lo tanto ahora identificaremos nuestros outliers:"
   ]
  },
  {
   "cell_type": "code",
   "execution_count": 27,
   "id": "7e06e70a-eee0-4ec7-a669-c2525e6d142d",
   "metadata": {},
   "outputs": [
    {
     "name": "stdout",
     "output_type": "stream",
     "text": [
      "Número de outliers en la columna MpG: 4118\n"
     ]
    }
   ],
   "source": [
    "# Calcula el IQR\n",
    "Q1 = df['MpG'].quantile(0.25)\n",
    "Q3 = df['MpG'].quantile(0.75)\n",
    "IQR = Q3 - Q1\n",
    "\n",
    "# Define los límites para los outliers\n",
    "lower_bound = Q1 - 1.5 * IQR\n",
    "upper_bound = Q3 + 1.5 * IQR\n",
    "\n",
    "# Encuentra los outliers\n",
    "outliers = df[(df['MpG'] < lower_bound) | (df['MpG'] > upper_bound)]\n",
    "\n",
    "# Imprime la cantidad de outliers\n",
    "print(\"Número de outliers en la columna MpG:\", len(outliers))"
   ]
  },
  {
   "cell_type": "markdown",
   "id": "8b3d7090-4f7a-46d4-82a0-62a1e69434cd",
   "metadata": {},
   "source": [
    "Encontramos 4118 outliers con los parámetros dados, siendo estos un porcentaje muy pequeño de nuestro dataset, simplemente los eliminaremos."
   ]
  },
  {
   "cell_type": "code",
   "execution_count": 28,
   "id": "ce00af7d-8701-4448-ae51-f20f2baa6b15",
   "metadata": {},
   "outputs": [],
   "source": [
    "# Filtra las filas sin outliers\n",
    "df = df[(df['MpG'] >= lower_bound) & (df['MpG'] <= upper_bound)]"
   ]
  },
  {
   "cell_type": "markdown",
   "id": "e77595e4-bf7c-4b0f-8f08-377d2cf6682d",
   "metadata": {},
   "source": [
    "Imprimimos Conteo de valores y revisaremos nulos, para asegurarnos de que los outliers fueron eliminados."
   ]
  },
  {
   "cell_type": "code",
   "execution_count": 29,
   "id": "04218634-c94c-4d8f-86cb-e90538c46bb6",
   "metadata": {},
   "outputs": [
    {
     "name": "stdout",
     "output_type": "stream",
     "text": [
      "----------------------- V.COUNT -----------------------\n",
      "MpG\n",
      "23.5    7709\n",
      "22.5    7466\n",
      "21.5    7399\n",
      "24.5    6211\n",
      "21.0    5865\n",
      "19.5    4915\n",
      "20.5    4870\n",
      "26.5    4724\n",
      "22.0    4694\n",
      "25.5    4617\n",
      "23.0    4602\n",
      "25.0    4484\n",
      "24.0    4460\n",
      "18.5    4427\n",
      "27.5    4275\n",
      "27.0    4120\n",
      "29.5    3901\n",
      "20.0    3737\n",
      "19.0    3723\n",
      "26.0    3535\n",
      "28.5    3515\n",
      "28.0    3277\n",
      "18.0    3103\n",
      "29.0    2664\n",
      "30.0    2612\n",
      "32.0    2378\n",
      "30.5    1948\n",
      "17.5    1893\n",
      "16.5    1781\n",
      "31.0    1611\n",
      "17.0    1600\n",
      "33.5    1560\n",
      "32.5    1519\n",
      "31.5    1423\n",
      "33.0    1395\n",
      "34.0     999\n",
      "35.0     968\n",
      "15.5     863\n",
      "15.0     847\n",
      "16.0     844\n",
      "34.5     620\n",
      "36.0     470\n",
      "35.5     437\n",
      "37.0     338\n",
      "36.5     221\n",
      "14.5     178\n",
      "14.0     152\n",
      "13.5     104\n",
      "13.0      82\n",
      "12.0      77\n",
      "12.5      51\n",
      "11.5      24\n",
      "Name: count, dtype: int64\n",
      "------------------------ NULL -------------------------\n",
      "0\n"
     ]
    }
   ],
   "source": [
    "conteo_valores = df['MpG'].value_counts()\n",
    "print(\"----------------------- V.COUNT -----------------------\")\n",
    "print(conteo_valores)\n",
    "print(\"------------------------ NULL -------------------------\")\n",
    "print(df[\"MpG\"].isnull().sum())"
   ]
  },
  {
   "cell_type": "markdown",
   "id": "4cf9b8bb-9d5f-4d86-81f8-69288b4b0fcb",
   "metadata": {},
   "source": [
    "Se puede observar que los valores se encuentran dentro de lo normal y los outliers fueron eliminados. Repetiremos el boxplot para ver si esta vez obtenemos un resultado más cercano a lo esperado."
   ]
  },
  {
   "cell_type": "code",
   "execution_count": 30,
   "id": "4b0c4a86-8a14-4d30-9dd2-0cd730820dc3",
   "metadata": {},
   "outputs": [
    {
     "data": {
      "image/png": "[encoded data removed]",
      "text/plain": [
       "<Figure size 640x480 with 1 Axes>"
      ]
     },
     "metadata": {},
     "output_type": "display_data"
    }
   ],
   "source": [
    "# Crea el boxplot de la columna 'MpG'\n",
    "sns.boxplot(x='MpG', data=df)\n",
    "\n",
    "# Configura el título y etiquetas de los ejes\n",
    "plt.title('Boxplot de la columna MpG')\n",
    "plt.xlabel('Valores de MpG')\n",
    "\n",
    "# Muestra el boxplot\n",
    "plt.show()"
   ]
  },
  {
   "cell_type": "markdown",
   "id": "01c20ec9-b783-45c1-809c-898452ee95ae",
   "metadata": {},
   "source": [
    "Vemos que esta vez el gráfico esta dentro de lo esperado, con una buena distribución, por lo que damos por procesada esta columna, eliminando la original."
   ]
  },
  {
   "cell_type": "code",
   "execution_count": 31,
   "id": "4618a942-2620-4cd6-863d-40ba004fcca3",
   "metadata": {},
   "outputs": [],
   "source": [
    "df = df.drop(columns=['MPG'])"
   ]
  },
  {
   "cell_type": "markdown",
   "id": "4fba0a67-cc8e-46c8-90b7-aaad89c86039",
   "metadata": {},
   "source": [
    "## Tratamiento de NaN"
   ]
  },
  {
   "cell_type": "markdown",
   "id": "2f5eebb7-e2ff-4a1a-a62d-1bc2693e1a49",
   "metadata": {},
   "source": [
    "Si bien con las transformaciones realizadas con anterioridad, para estructurar mejor nuestro dataset, ya lidiamos con los NaN de algunas columnas, ahora veremos como se encuentran las columnas restantes en este aspecto."
   ]
  },
  {
   "cell_type": "code",
   "execution_count": 32,
   "id": "d10911d3-1c3d-479a-8688-bd3435473131",
   "metadata": {},
   "outputs": [
    {
     "name": "stdout",
     "output_type": "stream",
     "text": [
      "-------------- NULL (%) ---------------\n"
     ]
    },
    {
     "data": {
      "text/plain": [
       "name                           0.000000\n",
       "money                          0.000000\n",
       "Exterior color                 1.119982\n",
       "Interior color                 8.231147\n",
       "Drivetrain                     0.121331\n",
       "Fuel type                      0.453018\n",
       "Transmission                   0.199586\n",
       "Engine                         0.013641\n",
       "Mileage                        0.022256\n",
       "Clean title                   88.665212\n",
       "brand                          0.000000\n",
       "Year                           0.000000\n",
       "Model                          0.000000\n",
       "currency                       0.000000\n",
       "Adaptive Cruise Control        0.000000\n",
       "Heated Seats                   0.000000\n",
       "Cooled Seats                   0.000000\n",
       "Keyless Start                  0.000000\n",
       "Navigation System              0.000000\n",
       "Power Liftgate                 0.000000\n",
       "Remote Start                   0.000000\n",
       "Heated Steering Wheel          0.000000\n",
       "Apple CarPlay/Android Auto     0.000000\n",
       "USB Port                       0.000000\n",
       "Premium Sound System           0.000000\n",
       "Bluetooth                      0.000000\n",
       "HomeLink                       0.000000\n",
       "Rear Seat Entertainment        0.000000\n",
       "Memory Seat                    0.000000\n",
       "Third Row Seating              0.000000\n",
       "Leather Seats                  0.000000\n",
       "Blind Spot Monitor             0.000000\n",
       "Rear Cross Traffic Alert       0.000000\n",
       "Backup Camera                  0.000000\n",
       "Lane Departure Warning         0.000000\n",
       "Alloy Wheels                   0.000000\n",
       "Sunroof/Moonroof               0.000000\n",
       "Tow Hitch                      0.000000\n",
       "Tow Hooks                      0.000000\n",
       "New                            0.000000\n",
       "Personal Use Only              0.000000\n",
       "Accidents or Damage            0.000000\n",
       "1-owner Vehicle                0.000000\n",
       "MpG                            0.000000\n",
       "dtype: float64"
      ]
     },
     "execution_count": 32,
     "metadata": {},
     "output_type": "execute_result"
    }
   ],
   "source": [
    "print(\"-------------- NULL (%) ---------------\")\n",
    "df.isnull().sum()/df.shape[0] * 100"
   ]
  },
  {
   "cell_type": "markdown",
   "id": "6a900ff1-e585-4284-8fe2-9fcc7a63b6d5",
   "metadata": {},
   "source": [
    "Podemos observar que tenemos varias columnas con NaN, primero eliminaremos todas las filas de aquellas columnas con menos de un 1% de valores NaN ya que hacerlo no tendrá un impacto mayor en nuestro análisis, sobre todo teniendo en cuenta el tamaño de nuestro dataset."
   ]
  },
  {
   "cell_type": "code",
   "execution_count": 33,
   "id": "d73a00d5-b289-4e58-ad81-feac4ab9d201",
   "metadata": {},
   "outputs": [],
   "source": [
    "df.dropna(subset = [\"Drivetrain\",\"Fuel type\",\"Transmission\",\"Engine\",\"Mileage\"], inplace = True)"
   ]
  },
  {
   "cell_type": "markdown",
   "id": "6c809686-3421-4612-82b2-cb80b007d13d",
   "metadata": {},
   "source": [
    "Veremos como se estructura ahora nuestro dataset después de haber hecho nuestro primer tratamiento:"
   ]
  },
  {
   "cell_type": "code",
   "execution_count": 34,
   "id": "dcf25bb8-63a2-46cc-9fbf-24b13143a8eb",
   "metadata": {},
   "outputs": [
    {
     "name": "stdout",
     "output_type": "stream",
     "text": [
      "-------------- NULL (%) ---------------\n"
     ]
    },
    {
     "data": {
      "text/plain": [
       "name                           0.000000\n",
       "money                          0.000000\n",
       "Exterior color                 1.107316\n",
       "Interior color                 8.172423\n",
       "Drivetrain                     0.000000\n",
       "Fuel type                      0.000000\n",
       "Transmission                   0.000000\n",
       "Engine                         0.000000\n",
       "Mileage                        0.000000\n",
       "Clean title                   88.681498\n",
       "brand                          0.000000\n",
       "Year                           0.000000\n",
       "Model                          0.000000\n",
       "currency                       0.000000\n",
       "Adaptive Cruise Control        0.000000\n",
       "Heated Seats                   0.000000\n",
       "Cooled Seats                   0.000000\n",
       "Keyless Start                  0.000000\n",
       "Navigation System              0.000000\n",
       "Power Liftgate                 0.000000\n",
       "Remote Start                   0.000000\n",
       "Heated Steering Wheel          0.000000\n",
       "Apple CarPlay/Android Auto     0.000000\n",
       "USB Port                       0.000000\n",
       "Premium Sound System           0.000000\n",
       "Bluetooth                      0.000000\n",
       "HomeLink                       0.000000\n",
       "Rear Seat Entertainment        0.000000\n",
       "Memory Seat                    0.000000\n",
       "Third Row Seating              0.000000\n",
       "Leather Seats                  0.000000\n",
       "Blind Spot Monitor             0.000000\n",
       "Rear Cross Traffic Alert       0.000000\n",
       "Backup Camera                  0.000000\n",
       "Lane Departure Warning         0.000000\n",
       "Alloy Wheels                   0.000000\n",
       "Sunroof/Moonroof               0.000000\n",
       "Tow Hitch                      0.000000\n",
       "Tow Hooks                      0.000000\n",
       "New                            0.000000\n",
       "Personal Use Only              0.000000\n",
       "Accidents or Damage            0.000000\n",
       "1-owner Vehicle                0.000000\n",
       "MpG                            0.000000\n",
       "dtype: float64"
      ]
     },
     "execution_count": 34,
     "metadata": {},
     "output_type": "execute_result"
    }
   ],
   "source": [
    "print(\"-------------- NULL (%) ---------------\")\n",
    "df.isnull().sum()/df.shape[0] * 100"
   ]
  },
  {
   "cell_type": "markdown",
   "id": "ab52df14-05d2-4097-a21b-9a1d164cff7b",
   "metadata": {},
   "source": [
    "Vemos que nos quedan solamente 3 columnas con valores NaN, primero tenemos el caso de Exterior color e Interior color, como este es un dato categórico y que puede ser de importancia, reemplazaremos estos NaN con la moda de cada columna."
   ]
  },
  {
   "cell_type": "code",
   "execution_count": 35,
   "id": "9931229b-a23f-42f9-ac71-83b1e2bb03b0",
   "metadata": {},
   "outputs": [],
   "source": [
    "df[\"Exterior color\"].fillna(df[\"Exterior color\"].mode()[0], inplace = True)\n",
    "df[\"Interior color\"].fillna(df[\"Interior color\"].mode()[0], inplace = True)"
   ]
  },
  {
   "cell_type": "markdown",
   "id": "3408a4b3-dfa4-4a64-92ce-e9730b6856f2",
   "metadata": {},
   "source": [
    "Observamos nuevamente nuestro dataset:"
   ]
  },
  {
   "cell_type": "code",
   "execution_count": 36,
   "id": "5afe8da0-4dff-4cb9-9c34-32e1ab9ca312",
   "metadata": {},
   "outputs": [
    {
     "name": "stdout",
     "output_type": "stream",
     "text": [
      "-------------- NULL (%) ---------------\n"
     ]
    },
    {
     "data": {
      "text/plain": [
       "name                           0.000000\n",
       "money                          0.000000\n",
       "Exterior color                 0.000000\n",
       "Interior color                 0.000000\n",
       "Drivetrain                     0.000000\n",
       "Fuel type                      0.000000\n",
       "Transmission                   0.000000\n",
       "Engine                         0.000000\n",
       "Mileage                        0.000000\n",
       "Clean title                   88.681498\n",
       "brand                          0.000000\n",
       "Year                           0.000000\n",
       "Model                          0.000000\n",
       "currency                       0.000000\n",
       "Adaptive Cruise Control        0.000000\n",
       "Heated Seats                   0.000000\n",
       "Cooled Seats                   0.000000\n",
       "Keyless Start                  0.000000\n",
       "Navigation System              0.000000\n",
       "Power Liftgate                 0.000000\n",
       "Remote Start                   0.000000\n",
       "Heated Steering Wheel          0.000000\n",
       "Apple CarPlay/Android Auto     0.000000\n",
       "USB Port                       0.000000\n",
       "Premium Sound System           0.000000\n",
       "Bluetooth                      0.000000\n",
       "HomeLink                       0.000000\n",
       "Rear Seat Entertainment        0.000000\n",
       "Memory Seat                    0.000000\n",
       "Third Row Seating              0.000000\n",
       "Leather Seats                  0.000000\n",
       "Blind Spot Monitor             0.000000\n",
       "Rear Cross Traffic Alert       0.000000\n",
       "Backup Camera                  0.000000\n",
       "Lane Departure Warning         0.000000\n",
       "Alloy Wheels                   0.000000\n",
       "Sunroof/Moonroof               0.000000\n",
       "Tow Hitch                      0.000000\n",
       "Tow Hooks                      0.000000\n",
       "New                            0.000000\n",
       "Personal Use Only              0.000000\n",
       "Accidents or Damage            0.000000\n",
       "1-owner Vehicle                0.000000\n",
       "MpG                            0.000000\n",
       "dtype: float64"
      ]
     },
     "execution_count": 36,
     "metadata": {},
     "output_type": "execute_result"
    }
   ],
   "source": [
    "print(\"-------------- NULL (%) ---------------\")\n",
    "df.isnull().sum()/df.shape[0] * 100"
   ]
  },
  {
   "cell_type": "markdown",
   "id": "8ebb22f8-9955-454a-b720-458f4aaaa19f",
   "metadata": {},
   "source": [
    "Podemos ver que esta vez solo nos queda una columna con NaN, y que estos componen un 88.7% de dicha columna, esta columna llamada Clean Title no parece contener información relevante suficiente para nuestro estudio, por lo tanto la eliminaremos de nuestro dataset."
   ]
  },
  {
   "cell_type": "code",
   "execution_count": 37,
   "id": "297dc0cd-eb4f-4c95-a78b-593a494037d6",
   "metadata": {},
   "outputs": [],
   "source": [
    "# Eliminamos la columna \"Clean Title\" ya que posee un alto grado de NaN y no brinda información relevante\n",
    "df = df.drop(columns=['Clean title'])"
   ]
  },
  {
   "cell_type": "markdown",
   "id": "a8d416cd-c064-4ef5-a86b-52eac6478577",
   "metadata": {},
   "source": [
    "Observamos la estructura de nuestro dataset concerniente a los NaN por última vez:"
   ]
  },
  {
   "cell_type": "code",
   "execution_count": 38,
   "id": "6f3dae2d-74a9-4ac6-9f3a-1b983e9052d0",
   "metadata": {},
   "outputs": [
    {
     "name": "stdout",
     "output_type": "stream",
     "text": [
      "-------------- NULL (%) ---------------\n"
     ]
    },
    {
     "data": {
      "text/plain": [
       "name                          0.0\n",
       "money                         0.0\n",
       "Exterior color                0.0\n",
       "Interior color                0.0\n",
       "Drivetrain                    0.0\n",
       "Fuel type                     0.0\n",
       "Transmission                  0.0\n",
       "Engine                        0.0\n",
       "Mileage                       0.0\n",
       "brand                         0.0\n",
       "Year                          0.0\n",
       "Model                         0.0\n",
       "currency                      0.0\n",
       "Adaptive Cruise Control       0.0\n",
       "Heated Seats                  0.0\n",
       "Cooled Seats                  0.0\n",
       "Keyless Start                 0.0\n",
       "Navigation System             0.0\n",
       "Power Liftgate                0.0\n",
       "Remote Start                  0.0\n",
       "Heated Steering Wheel         0.0\n",
       "Apple CarPlay/Android Auto    0.0\n",
       "USB Port                      0.0\n",
       "Premium Sound System          0.0\n",
       "Bluetooth                     0.0\n",
       "HomeLink                      0.0\n",
       "Rear Seat Entertainment       0.0\n",
       "Memory Seat                   0.0\n",
       "Third Row Seating             0.0\n",
       "Leather Seats                 0.0\n",
       "Blind Spot Monitor            0.0\n",
       "Rear Cross Traffic Alert      0.0\n",
       "Backup Camera                 0.0\n",
       "Lane Departure Warning        0.0\n",
       "Alloy Wheels                  0.0\n",
       "Sunroof/Moonroof              0.0\n",
       "Tow Hitch                     0.0\n",
       "Tow Hooks                     0.0\n",
       "New                           0.0\n",
       "Personal Use Only             0.0\n",
       "Accidents or Damage           0.0\n",
       "1-owner Vehicle               0.0\n",
       "MpG                           0.0\n",
       "dtype: float64"
      ]
     },
     "execution_count": 38,
     "metadata": {},
     "output_type": "execute_result"
    }
   ],
   "source": [
    "print(\"-------------- NULL (%) ---------------\")\n",
    "df.isnull().sum()/df.shape[0] * 100"
   ]
  },
  {
   "cell_type": "code",
   "execution_count": 39,
   "id": "5254a85a-4a29-4960-8f8c-a5ac45750759",
   "metadata": {},
   "outputs": [
    {
     "name": "stdout",
     "output_type": "stream",
     "text": [
      "------------------------ SHAPE ------------------------\n",
      "(138172, 43)\n"
     ]
    }
   ],
   "source": [
    "print(\"------------------------ SHAPE ------------------------\")\n",
    "print(df.shape)"
   ]
  },
  {
   "cell_type": "markdown",
   "id": "488e4f87-4f84-40a1-82e0-73833318ad95",
   "metadata": {},
   "source": [
    "Viendo que ya no existen columnas con NaN en su contenido y observando la cantidad de filas restantes, siendo aún una cantidad robusta para estudio, podemos dar por finalizado el tratamiento de NaNs."
   ]
  },
  {
   "cell_type": "markdown",
   "id": "39239070-59f6-46b5-b48f-8b535acb59fd",
   "metadata": {},
   "source": [
    "## Últimos arreglos"
   ]
  },
  {
   "cell_type": "markdown",
   "id": "63ecf8f6-0ff8-43cb-9914-c357363b0f94",
   "metadata": {},
   "source": [
    "Ahora, solo por comodidad renombraremos algunas columnas y cambiaremos el orden de las mismas."
   ]
  },
  {
   "cell_type": "code",
   "execution_count": 40,
   "id": "93117f79-2b9a-43a9-87f7-4148604b7147",
   "metadata": {},
   "outputs": [],
   "source": [
    "df = df.rename(columns={'money': 'Price'})\n",
    "df = df.rename(columns={'name': 'Name'})\n",
    "df = df.rename(columns={'brand': 'Brand'})\n",
    "df = df.rename(columns={'currency': 'Currency'})\n",
    "df = df.rename(columns={'MpG': 'MPG'})"
   ]
  },
  {
   "cell_type": "code",
   "execution_count": 41,
   "id": "244e5828-1aec-4691-b4c4-8b5e19cf6b53",
   "metadata": {},
   "outputs": [],
   "source": [
    "nuevo_orden_columnas = [\n",
    "    'Name', 'Price', 'New', 'Brand', 'Year', 'Model', 'Personal Use Only', 'Accidents or Damage', '1-owner Vehicle',\n",
    "    'Exterior color', 'Interior color', 'Drivetrain', 'MPG', 'Fuel type', 'Transmission', 'Engine',\n",
    "    'Mileage', 'Currency', 'Adaptive Cruise Control', 'Heated Seats', 'Cooled Seats',\n",
    "    'Keyless Start', 'Navigation System', 'Power Liftgate', 'Remote Start', 'Heated Steering Wheel',\n",
    "    'Apple CarPlay/Android Auto', 'USB Port', 'Premium Sound System', 'Bluetooth', 'HomeLink', 'Rear Seat Entertainment',\n",
    "    'Memory Seat', 'Third Row Seating', 'Leather Seats', 'Blind Spot Monitor', 'Rear Cross Traffic Alert',\n",
    "    'Backup Camera', 'Lane Departure Warning', 'Alloy Wheels', 'Sunroof/Moonroof', 'Tow Hitch', 'Tow Hooks'\n",
    "]\n",
    "\n",
    "# Reorganizar las columnas en el DataFrame\n",
    "df = df[nuevo_orden_columnas]"
   ]
  },
  {
   "cell_type": "markdown",
   "id": "a78d4257-390b-4960-9efb-db10b6780b64",
   "metadata": {},
   "source": [
    "Imprimiremos el info de nuestro dataset para cerciorarnos de que no existe problema alguno."
   ]
  },
  {
   "cell_type": "code",
   "execution_count": 42,
   "id": "197c9eb6-51ad-4e0c-8397-7c8ec3a524ec",
   "metadata": {},
   "outputs": [
    {
     "name": "stdout",
     "output_type": "stream",
     "text": [
      "------------------------ INFO -------------------------\n",
      "<class 'pandas.core.frame.DataFrame'>\n",
      "Index: 138172 entries, 0 to 175489\n",
      "Data columns (total 43 columns):\n",
      " #   Column                      Non-Null Count   Dtype  \n",
      "---  ------                      --------------   -----  \n",
      " 0   Name                        138172 non-null  object \n",
      " 1   Price                       138172 non-null  int64  \n",
      " 2   New                         138172 non-null  int64  \n",
      " 3   Brand                       138172 non-null  object \n",
      " 4   Year                        138172 non-null  int64  \n",
      " 5   Model                       138172 non-null  object \n",
      " 6   Personal Use Only           138172 non-null  int64  \n",
      " 7   Accidents or Damage         138172 non-null  int64  \n",
      " 8   1-owner Vehicle             138172 non-null  int64  \n",
      " 9   Exterior color              138172 non-null  object \n",
      " 10  Interior color              138172 non-null  object \n",
      " 11  Drivetrain                  138172 non-null  object \n",
      " 12  MPG                         138172 non-null  float64\n",
      " 13  Fuel type                   138172 non-null  object \n",
      " 14  Transmission                138172 non-null  object \n",
      " 15  Engine                      138172 non-null  object \n",
      " 16  Mileage                     138172 non-null  float64\n",
      " 17  Currency                    138172 non-null  object \n",
      " 18  Adaptive Cruise Control     138172 non-null  int64  \n",
      " 19  Heated Seats                138172 non-null  int64  \n",
      " 20  Cooled Seats                138172 non-null  int64  \n",
      " 21  Keyless Start               138172 non-null  int64  \n",
      " 22  Navigation System           138172 non-null  int64  \n",
      " 23  Power Liftgate              138172 non-null  int64  \n",
      " 24  Remote Start                138172 non-null  int64  \n",
      " 25  Heated Steering Wheel       138172 non-null  int64  \n",
      " 26  Apple CarPlay/Android Auto  138172 non-null  int64  \n",
      " 27  USB Port                    138172 non-null  int64  \n",
      " 28  Premium Sound System        138172 non-null  int64  \n",
      " 29  Bluetooth                   138172 non-null  int64  \n",
      " 30  HomeLink                    138172 non-null  int64  \n",
      " 31  Rear Seat Entertainment     138172 non-null  int64  \n",
      " 32  Memory Seat                 138172 non-null  int64  \n",
      " 33  Third Row Seating           138172 non-null  int64  \n",
      " 34  Leather Seats               138172 non-null  int64  \n",
      " 35  Blind Spot Monitor          138172 non-null  int64  \n",
      " 36  Rear Cross Traffic Alert    138172 non-null  int64  \n",
      " 37  Backup Camera               138172 non-null  int64  \n",
      " 38  Lane Departure Warning      138172 non-null  int64  \n",
      " 39  Alloy Wheels                138172 non-null  int64  \n",
      " 40  Sunroof/Moonroof            138172 non-null  int64  \n",
      " 41  Tow Hitch                   138172 non-null  int64  \n",
      " 42  Tow Hooks                   138172 non-null  int64  \n",
      "dtypes: float64(2), int64(31), object(10)\n",
      "memory usage: 46.4+ MB\n",
      "None\n"
     ]
    }
   ],
   "source": [
    "print(\"------------------------ INFO -------------------------\")\n",
    "print(df.info())"
   ]
  },
  {
   "cell_type": "markdown",
   "id": "cdc9ae43-9e26-4048-9abb-695feedbf883",
   "metadata": {},
   "source": [
    "## EDA"
   ]
  },
  {
   "cell_type": "markdown",
   "id": "d0d32aa7-6e90-45c7-b5e6-173ac59b1cc0",
   "metadata": {},
   "source": [
    "Exploraremos la columna Price ya que está directamente relacionada con nuestras hipótesis."
   ]
  },
  {
   "cell_type": "code",
   "execution_count": 43,
   "id": "19c75c44-5f3b-4bf2-adba-0b7f8b3108b2",
   "metadata": {},
   "outputs": [
    {
     "name": "stdout",
     "output_type": "stream",
     "text": [
      "------------------- DESCRIBE (Price) -------------------\n"
     ]
    },
    {
     "data": {
      "text/plain": [
       "count    1.381720e+05\n",
       "mean     3.055236e+04\n",
       "std      2.068376e+04\n",
       "min      1.895000e+03\n",
       "25%      1.899500e+04\n",
       "50%      2.659900e+04\n",
       "75%      3.626950e+04\n",
       "max      2.200000e+06\n",
       "Name: Price, dtype: float64"
      ]
     },
     "execution_count": 43,
     "metadata": {},
     "output_type": "execute_result"
    }
   ],
   "source": [
    "print(\"------------------- DESCRIBE (Price) -------------------\")\n",
    "df[\"Price\"].describe()"
   ]
  },
  {
   "cell_type": "markdown",
   "id": "04959a76-c333-4264-add8-ee4c67a093b0",
   "metadata": {},
   "source": [
    "Podemos observar que hay diferencias significativas en la notación decimal por lo que buscaremos nuestros valores mínimos y máximos."
   ]
  },
  {
   "cell_type": "code",
   "execution_count": 44,
   "id": "6535834b-d98d-4916-811f-08fc58e50a38",
   "metadata": {},
   "outputs": [
    {
     "name": "stdout",
     "output_type": "stream",
     "text": [
      "Min:\n",
      "1895\n",
      "Max:\n",
      "2200000\n"
     ]
    }
   ],
   "source": [
    "print (\"Min:\")\n",
    "print (df['Price'].min())\n",
    "print (\"Max:\")\n",
    "print (df['Price'].max())"
   ]
  },
  {
   "cell_type": "markdown",
   "id": "3b88b5f4-7e32-4775-96c6-0ca5518817ba",
   "metadata": {},
   "source": [
    "Confirmando lo observado anteriormente, podemos ver una gran diferencia entre el valor mínimo y máximo. Realizaremos un Boxplot para hacernos una idea más global de la distribución de esta columna."
   ]
  },
  {
   "cell_type": "code",
   "execution_count": 45,
   "id": "150d8456-7e08-4df4-ae2b-dc18132439a7",
   "metadata": {},
   "outputs": [
    {
     "data": {
      "image/png": "[encoded data removed]",
      "text/plain": [
       "<Figure size 800x600 with 1 Axes>"
      ]
     },
     "metadata": {},
     "output_type": "display_data"
    }
   ],
   "source": [
    "sns.set(style=\"whitegrid\")  # Configura el estilo del boxplot\n",
    "\n",
    "plt.figure(figsize=(8, 6))  # Establece el tamaño de la figura\n",
    "\n",
    "sns.boxplot(x=df[\"Price\"])  # Crea el boxplot de la variable \"Price\" en tu DataFrame\n",
    "\n",
    "plt.title(\"Boxplot de Price\", fontsize=16)  # Agrega un título al gráfico\n",
    "plt.xlabel(\"Price\", fontsize=14)  # Etiqueta del eje x\n",
    "\n",
    "plt.show()  # Muestra el boxplot"
   ]
  },
  {
   "cell_type": "markdown",
   "id": "62524b4e-17a8-43ca-8a1a-83dffbe39a19",
   "metadata": {},
   "source": [
    "Vemos que existen algunos outliers que no nos permiten observar correctamente nuestro gráfico, por lo tanto calcularemos cuartiles, determinando y eliminando outliers."
   ]
  },
  {
   "cell_type": "code",
   "execution_count": 46,
   "id": "0701dd08-7877-4bce-bf95-c1038542dc5f",
   "metadata": {},
   "outputs": [
    {
     "name": "stdout",
     "output_type": "stream",
     "text": [
      "------------------- DESCRIBE (Price) -------------------\n"
     ]
    },
    {
     "data": {
      "text/plain": [
       "count    131476.000000\n",
       "mean      27501.335605\n",
       "std       11644.314182\n",
       "min        1895.000000\n",
       "25%       18750.000000\n",
       "50%       25940.000000\n",
       "75%       34595.000000\n",
       "max       62180.000000\n",
       "Name: Price, dtype: float64"
      ]
     },
     "execution_count": 46,
     "metadata": {},
     "output_type": "execute_result"
    }
   ],
   "source": [
    "# Calcula el rango intercuartil (IQR) de la columna 'Price'\n",
    "Q1 = df['Price'].quantile(0.25)\n",
    "Q3 = df['Price'].quantile(0.75)\n",
    "IQR = Q3 - Q1\n",
    "\n",
    "# Define los límites para identificar outliers\n",
    "lower_bound = Q1 - 1.5 * IQR\n",
    "upper_bound = Q3 + 1.5 * IQR\n",
    "\n",
    "# Elimina las filas que contienen outliers en la columna 'Price'\n",
    "df = df[(df['Price'] >= lower_bound) & (df['Price'] <= upper_bound)]\n",
    "\n",
    "# Puedes usar reset_index() para restablecer los índices del DataFrame si es necesario\n",
    "df = df.reset_index(drop=True)\n",
    "\n",
    "print(\"------------------- DESCRIBE (Price) -------------------\")\n",
    "df[\"Price\"].describe()"
   ]
  },
  {
   "cell_type": "markdown",
   "id": "e74b8462-57f3-428d-be68-c8386c811f3c",
   "metadata": {},
   "source": [
    "Podemos observar rangos más razonables a primera vista, graficaremos boxplot nuevamente."
   ]
  },
  {
   "cell_type": "code",
   "execution_count": 47,
   "id": "178c7f46-01c6-4da6-b19d-120788ba2c2d",
   "metadata": {},
   "outputs": [
    {
     "data": {
      "image/png": "[encoded data removed]",
      "text/plain": [
       "<Figure size 640x480 with 1 Axes>"
      ]
     },
     "metadata": {},
     "output_type": "display_data"
    }
   ],
   "source": [
    "# Ajusta el rango del eje \"Price\"\n",
    "plt.ylim(0, 100000)  # Reemplaza 100000 con el valor máximo deseado\n",
    "\n",
    "# Crea un boxplot vertical de la columna \"Price\"\n",
    "plt.boxplot(df['Price'], vert=True)\n",
    "\n",
    "# Añade etiquetas al gráfico\n",
    "plt.title('Boxplot de Price')\n",
    "plt.xlabel('Price')\n",
    "\n",
    "# Muestra el gráfico\n",
    "plt.show()"
   ]
  },
  {
   "cell_type": "markdown",
   "id": "bfca1cc1-f908-4f7e-96c7-f5709ea28b0c",
   "metadata": {},
   "source": [
    "Ahora podemos observar el gráfico de buena manera y hemos eliminado los outliers que podrían causar problemas con el modelo. Habiendo tratado la columna precio podemos comenzar a desarrollar nuestras hipótesis."
   ]
  },
  {
   "cell_type": "markdown",
   "id": "53a0bad4-61ae-4b93-8758-baee71c06ee3",
   "metadata": {},
   "source": [
    "## **Hipótesis Primaria**:\n",
    "Los vehículos nuevos tienen un precio promedio significativamente más alto que los vehículos usados en la base de datos."
   ]
  },
  {
   "cell_type": "code",
   "execution_count": 67,
   "id": "b12916bc-deba-43a7-a2e7-ad067db8985c",
   "metadata": {},
   "outputs": [
    {
     "data": {
      "image/png": "[encoded data removed]",
      "text/plain": [
       "<Figure size 640x480 with 1 Axes>"
      ]
     },
     "metadata": {},
     "output_type": "display_data"
    }
   ],
   "source": [
    "# Agrupa los datos por la columna \"New\" y calcula el precio promedio para cada categoría\n",
    "data = df.groupby(\"New\")[\"Price\"].mean()\n",
    "\n",
    "# Crea un gráfico de barras\n",
    "plt.bar(data.index, data.values)\n",
    "plt.xlabel(\"Usado (0) y Nuevo(1)\")\n",
    "plt.ylabel(\"Precio Promedio\")\n",
    "plt.xticks([0, 1], data.index)  # Establece las etiquetas en el eje x\n",
    "plt.title(\"Precio Promedio de Automóviles Nuevos y Usados\")\n",
    "plt.show()"
   ]
  },
  {
   "cell_type": "markdown",
   "id": "2ea9f91a-d0c1-4e9f-8bd2-1b10f6ca0b9a",
   "metadata": {},
   "source": [
    "Podemos observar que el precio promedio de los autos nuevos es casi 15 mil dólares mayor que el precio de los autos usados. Por lo tanto nuestra Hipótesis resulta ser cierta."
   ]
  },
  {
   "cell_type": "markdown",
   "id": "c70101a1-e247-435a-8b0a-11986e35621b",
   "metadata": {},
   "source": [
    "## **Hipótesis Secundaria 1**:\n",
    "El tipo de combustible afecta de manera significativa el precio de los vehículos."
   ]
  },
  {
   "cell_type": "code",
   "execution_count": 49,
   "id": "1998c63b-f8f3-4c48-bda0-ac2f60419faa",
   "metadata": {},
   "outputs": [
    {
     "data": {
      "image/png": "[encoded data removed]",
      "text/plain": [
       "<Figure size 640x480 with 1 Axes>"
      ]
     },
     "metadata": {},
     "output_type": "display_data"
    }
   ],
   "source": [
    "# Agrupa los datos por la columna \"Fuel type\" y calcula el precio promedio para cada categoría\n",
    "data = df.groupby(\"Fuel type\")[\"Price\"].mean()\n",
    "\n",
    "# Ordena los datos de menor a mayor\n",
    "data = data.sort_values()\n",
    "\n",
    "# Crea un gráfico de barras\n",
    "plt.bar(data.index, data.values)\n",
    "plt.xlabel(\"Tipo de Combustible\")\n",
    "plt.ylabel(\"Precio Promedio\")\n",
    "plt.title(\"Precio Promedio de Automóviles por Tipo de Combustible\")\n",
    "plt.xticks(rotation=90)  # Rotar etiquetas para una mejor legibilidad si es necesario\n",
    "plt.show()"
   ]
  },
  {
   "cell_type": "markdown",
   "id": "01b5c187-cadd-45f8-b413-2109614c5fb0",
   "metadata": {},
   "source": [
    "Podemos observar que el precio si se ve afectado por el tipo de combustible que utiliza el vehículo observándose diferencias significativas entre algunos tipos de combustible."
   ]
  },
  {
   "cell_type": "markdown",
   "id": "66212d80-8acf-4216-b34d-32eacebf9c35",
   "metadata": {},
   "source": [
    "## **Hipótesis Secundaria 2:**\n",
    "El tipo de transmisión influye en el precio siendo el 4x4 el más caro."
   ]
  },
  {
   "cell_type": "code",
   "execution_count": 50,
   "id": "d2f0d151-7a44-490d-90a1-adc908cbe6b3",
   "metadata": {},
   "outputs": [
    {
     "data": {
      "image/png": "[encoded data removed]",
      "text/plain": [
       "<Figure size 640x480 with 1 Axes>"
      ]
     },
     "metadata": {},
     "output_type": "display_data"
    }
   ],
   "source": [
    "# Agrupa los datos por la columna \"Drivetrain\" y calcula el precio promedio para cada categoría\n",
    "data = df.groupby(\"Drivetrain\")[\"Price\"].mean()\n",
    "\n",
    "# Ordena los datos de menor a mayor precio promedio\n",
    "data = data.sort_values()\n",
    "\n",
    "# Crea un gráfico de barras\n",
    "plt.bar(data.index, data.values)\n",
    "plt.xlabel(\"Tipo de Tracción\")\n",
    "plt.ylabel(\"Precio Promedio\")\n",
    "plt.title(\"Precio Promedio de Automóviles por Tipo de Tracción (Ordenado)\")\n",
    "plt.xticks(rotation=45)  # Rotar etiquetas para una mejor legibilidad si es necesario\n",
    "plt.show()"
   ]
  },
  {
   "cell_type": "markdown",
   "id": "025032d3-66cb-4a3e-87c4-0901aad83b75",
   "metadata": {},
   "source": [
    "Podemos ver que nuestra hipótesis está en lo correcto, pero que el grado de variación de precios no es amplio."
   ]
  },
  {
   "cell_type": "markdown",
   "id": "1716d245-f5e2-46af-9fc4-301ebe254d74",
   "metadata": {},
   "source": [
    "## **Hipótesis Secundaria 3:**\n",
    "La eficiencia de combustible (medida en millas por galón, mpg) está positivamente correlacionada con el precio de los vehículos, lo que significa que los vehículos más eficientes en combustible tienden a tener un precio promedio más alto en el mercado."
   ]
  },
  {
   "cell_type": "code",
   "execution_count": 51,
   "id": "59d7abae-e170-4eb9-ab94-27325d45f9a9",
   "metadata": {},
   "outputs": [
    {
     "data": {
      "image/png": "[encoded data removed]",
      "text/plain": [
       "<Figure size 1200x600 with 1 Axes>"
      ]
     },
     "metadata": {},
     "output_type": "display_data"
    }
   ],
   "source": [
    "# Agrupar los datos por la columna \"MPG\" y calcular el promedio de la columna \"Price\"\n",
    "data = df.groupby(\"MPG\")[\"Price\"].mean()\n",
    "\n",
    "# Ajustar el tamaño de la figura para hacerla más ancha\n",
    "plt.figure(figsize=(12, 6))\n",
    "\n",
    "# Crear un gráfico de barras\n",
    "data.plot(kind=\"bar\", rot=90)\n",
    "plt.xlabel(\"MPG\")\n",
    "plt.ylabel(\"Precio Promedio\")\n",
    "plt.title(\"Precio Promedio de Automóviles por MPG\")\n",
    "plt.show()"
   ]
  },
  {
   "cell_type": "code",
   "execution_count": 52,
   "id": "31c60607-c93a-42a3-b06d-a366bcdc9a13",
   "metadata": {},
   "outputs": [
    {
     "data": {
      "image/png": "[encoded data removed]",
      "text/plain": [
       "<Figure size 640x480 with 1 Axes>"
      ]
     },
     "metadata": {},
     "output_type": "display_data"
    }
   ],
   "source": [
    "# Crear un gráfico de dispersión entre \"MPG\" y \"Price\"\n",
    "plt.scatter(df[\"MPG\"], df[\"Price\"], alpha=0.5)  # alpha controla la transparencia de los puntos\n",
    "plt.xlabel(\"MPG\")\n",
    "plt.ylabel(\"Price\")\n",
    "plt.title(\"Gráfico de Dispersión entre MPG y Price\")\n",
    "plt.grid(True)  # Agrega una cuadrícula al gráfico\n",
    "plt.show()"
   ]
  },
  {
   "cell_type": "markdown",
   "id": "89224709-4fd3-42b3-aff1-84336787106a",
   "metadata": {},
   "source": [
    "Nuestra hipótesis parece no ser válida ya que no se aprecia una relación positiva clara entre la cantidad de millas por galón y el precio de los automóviles."
   ]
  },
  {
   "cell_type": "markdown",
   "id": "aa48da5e-649a-4bb7-8f64-dfe8578b220d",
   "metadata": {},
   "source": [
    "## Filter Feature Selection"
   ]
  },
  {
   "cell_type": "code",
   "execution_count": 53,
   "id": "bfdd5e5d-9a73-4c5d-a878-d775c21e3608",
   "metadata": {},
   "outputs": [],
   "source": [
    "# Filtra las columnas numéricas\n",
    "df_numerico = df.select_dtypes(include='number')\n",
    "\n",
    "# Calcula la matriz de correlación\n",
    "matriz_correlacion = df_numerico.corr(method='pearson')\n",
    "\n",
    "# Selecciona la variable target para estudiar únicamente correlación con ella\n",
    "matriz_correlacion_target = matriz_correlacion['Price']\n",
    "\n",
    "# Calcula el valor absoluto para extraer correlaciones más fuertes independientemente de su sentido\n",
    "matriz_correlacion_target = abs(matriz_correlacion_target)\n",
    "\n",
    "# Ordena de mayor a menor correlación\n",
    "matriz_correlacion_target = matriz_correlacion_target.sort_values(ascending=False)"
   ]
  },
  {
   "cell_type": "code",
   "execution_count": 54,
   "id": "3189c425-621b-4723-b117-cab234e4f145",
   "metadata": {},
   "outputs": [
    {
     "data": {
      "image/png": "[encoded data removed]",
      "text/plain": [
       "<Figure size 1000x600 with 1 Axes>"
      ]
     },
     "metadata": {},
     "output_type": "display_data"
    }
   ],
   "source": [
    "# Grafico el top 20 de variables más correlacionadas\n",
    "matriz_correlacion_target_graficar = matriz_correlacion_target[0:20]\n",
    "plt.figure(figsize=(10, 6))  # Tamaño de la figura\n",
    "plt.barh(matriz_correlacion_target_graficar.index, \n",
    "         matriz_correlacion_target_graficar.values,\n",
    "         color = '#A989D6')\n",
    "plt.xlabel('Correlación')\n",
    "plt.title('Correlación con Price')\n",
    "plt.gca().invert_yaxis()  # Invertir el eje Y para mostrar la característica más relevante en la parte superior\n",
    "plt.show()"
   ]
  },
  {
   "cell_type": "code",
   "execution_count": 55,
   "id": "3cae8441-15da-4bb0-934c-34f627dfeec0",
   "metadata": {},
   "outputs": [],
   "source": [
    "# Defino función para hacer la selección de varaibles\n",
    "def forward_selection(data, target, significance_level):\n",
    "    initial_features = data.columns.tolist()\n",
    "    best_features = []\n",
    "    while (len(initial_features)>0):\n",
    "        remaining_features = list(set(initial_features)-set(best_features))\n",
    "        new_pval = pd.Series(dtype = 'float64',\n",
    "                             index = remaining_features)\n",
    "        for new_column in remaining_features:\n",
    "            model = sm.OLS(target, sm.add_constant(data[best_features+[new_column]])).fit()\n",
    "            new_pval[new_column] = model.pvalues[new_column]\n",
    "        min_p_value = new_pval.min()\n",
    "        if(min_p_value<significance_level):\n",
    "            best_features.append(new_pval.idxmin())\n",
    "        else:\n",
    "            break\n",
    "    return best_features"
   ]
  },
  {
   "cell_type": "code",
   "execution_count": 56,
   "id": "38169385-2363-4806-87ac-930d98944c43",
   "metadata": {},
   "outputs": [],
   "source": [
    "# Matriz de Features\n",
    "X = df[['New', 'Year', 'Personal Use Only', 'Accidents or Damage', '1-owner Vehicle',\n",
    "        'Mileage', 'Adaptive Cruise Control', 'Heated Seats', 'Cooled Seats',\n",
    "        'Keyless Start', 'Navigation System', 'Power Liftgate', 'Remote Start',\n",
    "        'Heated Steering Wheel', 'Apple CarPlay/Android Auto', 'USB Port',\n",
    "        'Premium Sound System', 'Bluetooth', 'HomeLink', 'Rear Seat Entertainment',\n",
    "        'Memory Seat', 'Third Row Seating', 'Leather Seats', 'Blind Spot Monitor',\n",
    "        'Rear Cross Traffic Alert', 'Backup Camera', 'Lane Departure Warning',\n",
    "        'Alloy Wheels', 'Sunroof/Moonroof', 'Tow Hitch', 'Tow Hooks', \"MPG\"]]\n",
    "\n",
    "# Target\n",
    "y = df['Price']"
   ]
  },
  {
   "cell_type": "code",
   "execution_count": 57,
   "id": "e4dcc237-e9d7-4735-881b-ee76ecff6a30",
   "metadata": {},
   "outputs": [
    {
     "name": "stdout",
     "output_type": "stream",
     "text": [
      "Quedaron seleccionadas:\n"
     ]
    },
    {
     "data": {
      "text/plain": [
       "['Tow Hitch',\n",
       " 'New',\n",
       " 'Power Liftgate',\n",
       " 'Leather Seats',\n",
       " 'Apple CarPlay/Android Auto',\n",
       " 'Mileage',\n",
       " 'Memory Seat',\n",
       " 'Rear Cross Traffic Alert',\n",
       " 'HomeLink',\n",
       " 'Premium Sound System',\n",
       " 'Navigation System',\n",
       " 'Year',\n",
       " 'USB Port',\n",
       " 'MPG',\n",
       " 'Third Row Seating',\n",
       " 'Heated Seats',\n",
       " 'Sunroof/Moonroof',\n",
       " 'Personal Use Only',\n",
       " 'Accidents or Damage',\n",
       " 'Tow Hooks',\n",
       " 'Remote Start',\n",
       " 'Rear Seat Entertainment',\n",
       " '1-owner Vehicle',\n",
       " 'Backup Camera',\n",
       " 'Keyless Start',\n",
       " 'Adaptive Cruise Control',\n",
       " 'Lane Departure Warning',\n",
       " 'Cooled Seats']"
      ]
     },
     "execution_count": 57,
     "metadata": {},
     "output_type": "execute_result"
    }
   ],
   "source": [
    "VARIABLES_ELEGIDAS = forward_selection(data = X,\n",
    "                                       target = y,\n",
    "                                       significance_level = 0.01)\n",
    "print(\"Quedaron seleccionadas:\")\n",
    "VARIABLES_ELEGIDAS"
   ]
  },
  {
   "cell_type": "code",
   "execution_count": 58,
   "id": "2a491bfd-e69b-409b-80d3-e6ca201a7daa",
   "metadata": {},
   "outputs": [
    {
     "name": "stdout",
     "output_type": "stream",
     "text": [
      "De 32 features, se seleccionaron 28\n"
     ]
    }
   ],
   "source": [
    "print('De ' + str(X.shape[1]) + ' features, se seleccionaron ' + str(len(VARIABLES_ELEGIDAS)))"
   ]
  },
  {
   "cell_type": "code",
   "execution_count": 59,
   "id": "bf4804a6-2d99-4810-9b20-6bd07c7ebc35",
   "metadata": {},
   "outputs": [
    {
     "name": "stdout",
     "output_type": "stream",
     "text": [
      "Quedaron fuera:\n"
     ]
    },
    {
     "data": {
      "text/plain": [
       "['Heated Steering Wheel', 'Bluetooth', 'Blind Spot Monitor', 'Alloy Wheels']"
      ]
     },
     "execution_count": 59,
     "metadata": {},
     "output_type": "execute_result"
    }
   ],
   "source": [
    "print(\"Quedaron fuera:\")\n",
    "elementos_no_en_lista = [x for x in X.columns if x not in VARIABLES_ELEGIDAS]\n",
    "elementos_no_en_lista"
   ]
  },
  {
   "cell_type": "markdown",
   "id": "a7c022f8-e941-45be-8c86-c6e8b7116f5e",
   "metadata": {},
   "source": [
    "## Métricas"
   ]
  },
  {
   "cell_type": "code",
   "execution_count": 60,
   "id": "66a1b186-bc8f-4f66-a00a-6aacc8c83704",
   "metadata": {},
   "outputs": [],
   "source": [
    "from sklearn.model_selection import train_test_split\n",
    "X_train,X_test,y_train,y_test = train_test_split(X,y,test_size=0.2,random_state=2)\n",
    "from sklearn.linear_model import LinearRegression\n",
    "# crear el modelo\n",
    "lr = LinearRegression()\n",
    "# Ajustar el modelo con X_train y y_train\n",
    "lr.fit(X_train,y_train)\n",
    "# PRedecir con X_test\n",
    "y_pred = lr.predict(X_test)"
   ]
  },
  {
   "cell_type": "code",
   "execution_count": 61,
   "id": "0f66723a-c073-40c4-84fb-aa58c6166c80",
   "metadata": {},
   "outputs": [
    {
     "name": "stdout",
     "output_type": "stream",
     "text": [
      "MAE 4438.267768056219\n"
     ]
    }
   ],
   "source": [
    "from sklearn.metrics import mean_absolute_error\n",
    "print(\"MAE\",mean_absolute_error(y_test,y_pred))"
   ]
  },
  {
   "cell_type": "code",
   "execution_count": 62,
   "id": "54b90557-9568-4321-9bd4-696004467632",
   "metadata": {},
   "outputs": [
    {
     "name": "stdout",
     "output_type": "stream",
     "text": [
      "MSE 34471796.41190466\n"
     ]
    }
   ],
   "source": [
    "from sklearn.metrics import mean_squared_error\n",
    "print(\"MSE\",mean_squared_error(y_test,y_pred))"
   ]
  },
  {
   "cell_type": "code",
   "execution_count": 63,
   "id": "25c58d7a-a416-4eac-afd6-7922f5ba0e6e",
   "metadata": {},
   "outputs": [
    {
     "name": "stdout",
     "output_type": "stream",
     "text": [
      "RMSE 5871.2687225083355\n"
     ]
    }
   ],
   "source": [
    "print(\"RMSE\",np.sqrt(mean_squared_error(y_test,y_pred)))"
   ]
  },
  {
   "cell_type": "code",
   "execution_count": 64,
   "id": "332a053d-9d88-43fd-8f4c-41a6c693f805",
   "metadata": {},
   "outputs": [
    {
     "name": "stdout",
     "output_type": "stream",
     "text": [
      "RMSE 8.677826026181483\n"
     ]
    }
   ],
   "source": [
    "print(\"RMSE\",np.log(np.sqrt(mean_squared_error(y_test,y_pred))))"
   ]
  },
  {
   "cell_type": "code",
   "execution_count": 65,
   "id": "c323e334-b124-4a25-b902-6ffc44939f5d",
   "metadata": {},
   "outputs": [
    {
     "name": "stdout",
     "output_type": "stream",
     "text": [
      "R2 0.7479462998427941\n"
     ]
    }
   ],
   "source": [
    "from sklearn.metrics import r2_score\n",
    "r2 = r2_score(y_test,y_pred)\n",
    "print(\"R2\", r2)"
   ]
  },
  {
   "cell_type": "markdown",
   "id": "e8a21b6a-e921-4e29-9d0a-d4a9df0ed69f",
   "metadata": {},
   "source": [
    "## Conclusiones"
   ]
  },
  {
   "cell_type": "markdown",
   "id": "fb99e924-275b-41e4-9758-341c68f895ea",
   "metadata": {},
   "source": [
    "<div style=\"text-align: justify;\">\n",
    "En general, el modelo parece mostrar un rendimiento decente. El RMSE y el MAE no son extremadamente altos, lo que sugiere que las predicciones no están muy alejadas de los valores reales. Además, el R^2 indica que el modelo es capaz de explicar una cantidad significativa de la variabilidad en los precios. Sin embargo, siempre es importante considerar el contexto específico del problema para determinar si este rendimiento es aceptable. Se debe seguir ajustando y mejorando el modelo si se desea reducir aún más el error y aumentar la precisión.\n",
    "</div>"
   ]
  }
 ],
 "metadata": {
  "kernelspec": {
   "display_name": "Python 3 (ipykernel)",
   "language": "python",
   "name": "python3"
  },
  "language_info": {
   "codemirror_mode": {
    "name": "ipython",
    "version": 3
   },
   "file_extension": ".py",
   "mimetype": "text/x-python",
   "name": "python",
   "nbconvert_exporter": "python",
   "pygments_lexer": "ipython3",
   "version": "3.11.5"
  }
 },
 "nbformat": 4,
 "nbformat_minor": 5
}
